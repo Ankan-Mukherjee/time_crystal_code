{
 "cells": [
  {
   "cell_type": "markdown",
   "id": "7b90700d",
   "metadata": {},
   "source": [
    "# Third Order Approximation for N $\\to\\infty$"
   ]
  },
  {
   "cell_type": "markdown",
   "id": "cdad64b6",
   "metadata": {},
   "source": [
    "## Set Up"
   ]
  },
  {
   "cell_type": "markdown",
   "id": "01b54a0f",
   "metadata": {},
   "source": [
    "### Importing Packages"
   ]
  },
  {
   "cell_type": "code",
   "execution_count": 1,
   "id": "43017f83",
   "metadata": {},
   "outputs": [],
   "source": [
    "import numpy as np\n",
    "\n",
    "import sympy as sym\n",
    "from sympy.physics.paulialgebra import Pauli, evaluate_pauli_product\n",
    "from sympy import I\n",
    "\n",
    "import scipy as sc\n",
    "import scipy.constants as scc\n",
    "from scipy.integrate import solve_ivp\n",
    "\n",
    "import matplotlib\n",
    "import matplotlib.pyplot as plt\n",
    "\n",
    "import csv\n",
    "import json\n",
    "\n",
    "from datetime import datetime\n",
    "import os\n",
    "\n",
    "from copy import *\n",
    "import pickle\n",
    "\n",
    "from qutip import *\n",
    "\n",
    "from collections.abc import Iterable\n",
    "\n",
    "from numba import jit"
   ]
  },
  {
   "cell_type": "markdown",
   "id": "eb1ed096",
   "metadata": {},
   "source": [
    "### Plotting Function"
   ]
  },
  {
   "cell_type": "code",
   "execution_count": 2,
   "id": "5bd8438c",
   "metadata": {},
   "outputs": [],
   "source": [
    "def plot_data(x_list, y_list, xlabel, ylabel, title, data, savedir = None):\n",
    "    \n",
    "    plt.figure(figsize=(4, 4), dpi=200)\n",
    "    cmap = ['r', 'g', 'b', 'c', 'k', 'orange']\n",
    "    \n",
    "    label_size = 20\n",
    "\n",
    "    plt.rc('text', usetex = True)\n",
    "    plt.rc('xtick', labelsize=label_size) \n",
    "    plt.rc('ytick', labelsize=label_size)\n",
    "\n",
    "    #c = cmap[i%len(cmap)]\n",
    "\n",
    "    plt.plot(x_list, y_list, linestyle = '-', alpha=0.8)\n",
    "\n",
    "    plt.xlabel(xlabel, fontsize = label_size)\n",
    "    plt.ylabel(ylabel, fontsize = label_size)\n",
    "    #plt.legend(fontsize = 0.8 * label_size)\n",
    "        \n",
    "        \n",
    "    def savefig_(data, folder_initial_name):\n",
    "        parent_dir = 'data/'\n",
    "        path = os.path.join(parent_dir, ''.join([folder_initial_name,'_',datetime.now().strftime(\"%Y%m%d_%H%M%S\")]))\n",
    "        os.mkdir(path)\n",
    "\n",
    "#         with open(os.path.join(path,'data.pkl'), 'wb') as file:\n",
    "#             pickle.dump(data, file, pickle.HIGHEST_PROTOCOL)\n",
    "\n",
    "        np.savetxt(os.path.join(path,'data.txt'), data)\n",
    "        plt.savefig(os.path.join(path,'plot.png'), bbox_inches='tight')\n",
    "\n",
    "\n",
    "    if savedir is not None:\n",
    "        savefig_(data, savedir)\n",
    "        \n",
    "    plt.show()"
   ]
  },
  {
   "cell_type": "markdown",
   "id": "7654a4bf",
   "metadata": {},
   "source": [
    "### Defining the Symbols"
   ]
  },
  {
   "cell_type": "code",
   "execution_count": 3,
   "id": "d291174c",
   "metadata": {},
   "outputs": [],
   "source": [
    "S = dict()\n",
    "\n",
    "w0, k, s = sym.symbols('omega_0 kappa S', real=True)\n",
    "S['x'], S['y'], S['z'], S['p'], S['m'] = sym.symbols('S_x S_y S_z S_p S_m', commutative=False)\n",
    "\n",
    "S['p'] = S['x'] + sym.I*S['y']\n",
    "S['m'] = S['x'] - sym.I*S['y']"
   ]
  },
  {
   "cell_type": "code",
   "execution_count": 4,
   "id": "0f2fd788",
   "metadata": {},
   "outputs": [],
   "source": [
    "coords = ['x', 'y', 'z']\n",
    "\n",
    "m = dict()\n",
    "n = dict()\n",
    "l = dict()\n",
    "q = dict()\n",
    "\n",
    "ch = dict()\n",
    "tau = dict()\n",
    "\n",
    "for i1 in coords:\n",
    "    m[i1] = sym.symbols('m_%s' % i1, real=True)\n",
    "for i1 in coords:\n",
    "    for i2 in coords:\n",
    "        n[i1+i2] = sym.symbols('n_%s%s' % (i1,i2), real=True)\n",
    "        ch[i1+i2] = sym.symbols('chi_%s%s' % (i1,i2), real=True)\n",
    "for i1 in coords:\n",
    "    for i2 in coords:\n",
    "        for i3 in coords:\n",
    "            l[i1+i2+i3] = sym.symbols('l_%s%s%s' % (i1,i2,i3), real=True)\n",
    "            tau[i1+i2+i3] = sym.symbols('tau_%s%s%s' % (i1,i2,i3), real=True)\n",
    "for i1 in coords:\n",
    "    for i2 in coords:\n",
    "        for i3 in coords:\n",
    "            for i4 in coords:\n",
    "                q[i1+i2+i3+i4] = sym.symbols('q_%s%s%s%s' % (i1,i2,i3,i4), real=True)"
   ]
  },
  {
   "cell_type": "markdown",
   "id": "cae8ca36",
   "metadata": {},
   "source": [
    "### Defining the Commutators"
   ]
  },
  {
   "cell_type": "code",
   "execution_count": 5,
   "id": "fc09045d",
   "metadata": {},
   "outputs": [],
   "source": [
    "def comm(A,B):\n",
    "    if not isinstance(A, Iterable) and not isinstance(B, Iterable):\n",
    "        if A == B:\n",
    "            return 0\n",
    "        elif A == S['x'] and B == S['y']:\n",
    "            return I*S['z']\n",
    "        elif A == S['x'] and B == S['z']:\n",
    "            return -I*S['y']\n",
    "        elif A == S['y'] and B == S['x']:\n",
    "            return -I*S['z']\n",
    "        elif A == S['y'] and B == S['z']:\n",
    "            return I*S['x']\n",
    "        elif A == S['z'] and B == S['x']:\n",
    "            return I*S['y']\n",
    "        elif A == S['z'] and B == S['y']:\n",
    "            return -I*S['x']\n",
    "        elif A == S['p'] and B == S['m']:\n",
    "            return 2*S['z']\n",
    "        elif A == S['m'] and B == S['p']:\n",
    "            return -2*S['z']\n",
    "        elif A == S['p']:\n",
    "            return comm(S['x'],B)+I*comm(S['y'],B)\n",
    "        elif A == S['m']:\n",
    "            return comm(S['x'],B)-I*comm(S['y'],B)\n",
    "        elif B == S['p']:\n",
    "            return comm(A,S['x'])+I*comm(A,S['y'])\n",
    "        elif B == S['m']:\n",
    "            return comm(A,S['x'])-I*comm(A,S['y'])\n",
    "        else:\n",
    "            print('Error')\n",
    "            return A*B - B*A\n",
    "        \n",
    "    elif isinstance(B, Iterable) and not isinstance(A, Iterable):\n",
    "        if A == S['p']:\n",
    "            res = 0\n",
    "            for i in range(len(B)):\n",
    "                temp_x = 1\n",
    "                temp_y = 1\n",
    "                for j in range(len(B)):\n",
    "                    if i == j:\n",
    "                        temp_x = temp_x*comm(S['x'],B[j])\n",
    "                        temp_y = temp_y*comm(S['y'],B[j])\n",
    "                    else:\n",
    "                        temp_x = temp_x*B[j]\n",
    "                        temp_y = temp_y*B[j]\n",
    "                res = res + temp_x + sym.I*temp_y\n",
    "                    \n",
    "                \n",
    "        elif A == S['m']:\n",
    "            res = 0\n",
    "            for i in range(len(B)):\n",
    "                temp_x = 1\n",
    "                temp_y = 1\n",
    "                for j in range(len(B)):\n",
    "                    if i == j:\n",
    "                        temp_x = temp_x*comm(S['x'],B[j])\n",
    "                        temp_y = temp_y*comm(S['y'],B[j])\n",
    "                    else:\n",
    "                        temp_x = temp_x*B[j]\n",
    "                        temp_y = temp_y*B[j]\n",
    "                res = res + temp_x - sym.I*temp_y\n",
    "        \n",
    "        else:\n",
    "            res = 0\n",
    "            for i in range(len(B)):\n",
    "                temp = 1\n",
    "                for j in range(len(B)):\n",
    "                    if i == j:\n",
    "                        temp = temp*comm(A,B[j])\n",
    "                    else:\n",
    "                        temp = temp*B[j]\n",
    "                res = res + temp\n",
    "        \n",
    "        return res\n",
    "    \n",
    "    elif isinstance(A, Iterable) and not isinstance(B, Iterable):\n",
    "        return -comm(B,A)\n",
    "    \n",
    "    else:\n",
    "        print('Error')\n",
    "        return 0"
   ]
  },
  {
   "cell_type": "markdown",
   "id": "f0acda5c",
   "metadata": {},
   "source": [
    "### Simplification Substitutions"
   ]
  },
  {
   "cell_type": "code",
   "execution_count": 6,
   "id": "b30839ce",
   "metadata": {},
   "outputs": [],
   "source": [
    "subs_list = dict()\n",
    "\n",
    "for i1 in coords:\n",
    "    subs_list[S[i1]/s] = m[i1]\n",
    "for i1 in coords:\n",
    "    for i2 in coords:\n",
    "        subs_list[(S[i1]*S[i2])/(s**2)] = n[i1+i2]\n",
    "for i1 in coords:\n",
    "    for i2 in coords:\n",
    "        for i3 in coords:\n",
    "            subs_list[(S[i1]*S[i2]*S[i3])/(s**3)] = l[i1+i2+i3]\n",
    "for i1 in coords:\n",
    "    for i2 in coords:\n",
    "        for i3 in coords:\n",
    "            for i4 in coords:\n",
    "                subs_list[(S[i1]*S[i2]*S[i3]*S[i4])/(s**4)] = q[i1+i2+i3+i4]"
   ]
  },
  {
   "cell_type": "code",
   "execution_count": 7,
   "id": "53aa01fe",
   "metadata": {},
   "outputs": [],
   "source": [
    "q_subs_list = dict()\n",
    "for i1 in coords:\n",
    "    for i2 in coords:\n",
    "        for i3 in coords:\n",
    "            for i4 in coords:\n",
    "                q_subs_list[q[i1+i2+i3+i4]] = m[i1]*l[i2+i3+i4] + m[i2]*l[i1+i3+i4] + m[i3]*l[i1+i2+i4] + m[i4]*l[i1+i2+i3] +\\\n",
    "                                                n[i1+i2]*n[i3+i4] + n[i1+i3]*n[i2+i4] + n[i1+i4]*n[i2+i3] -\\\n",
    "                                                 2*(n[i1+i2]*m[i3]*m[i4] + n[i1+i3]*m[i2]*m[i4] + n[i1+i4]*m[i2]*m[i3] + n[i2+i3]*m[i1]*m[i4] + n[i2+i4]*m[i1]*m[i3] + n[i3+i4]*m[i1]*m[i2]) +\\\n",
    "                                                  6*m[i1]*m[i2]*m[i3]*m[i4]"
   ]
  },
  {
   "cell_type": "code",
   "execution_count": 8,
   "id": "8b1109b4",
   "metadata": {},
   "outputs": [],
   "source": [
    "comm_subs_list = dict()\n",
    "\n",
    "for i1 in coords:\n",
    "    for i2 in coords:\n",
    "        temp = np.sort([i1,i2])\n",
    "        comm_subs_list[n[i1+i2]] = n[temp[0]+temp[1]]\n",
    "for i1 in coords:\n",
    "    for i2 in coords:\n",
    "        for i3 in coords:\n",
    "            temp = np.sort([i1,i2,i3])\n",
    "            comm_subs_list[l[i1+i2+i3]] = l[temp[0]+temp[1]+temp[2]]"
   ]
  },
  {
   "cell_type": "code",
   "execution_count": 9,
   "id": "8f4241f1",
   "metadata": {},
   "outputs": [],
   "source": [
    "var_comm_subs_list = dict()\n",
    "\n",
    "for i1 in coords:\n",
    "    for i2 in coords:\n",
    "        temp = np.sort([i1,i2])\n",
    "        comm_subs_list[ch[i1+i2]] = ch[temp[0]+temp[1]]\n",
    "for i1 in coords:\n",
    "    for i2 in coords:\n",
    "        for i3 in coords:\n",
    "            temp = np.sort([i1,i2,i3])\n",
    "            comm_subs_list[tau[i1+i2+i3]] = tau[temp[0]+temp[1]+temp[2]]"
   ]
  },
  {
   "cell_type": "code",
   "execution_count": 10,
   "id": "7d8be336",
   "metadata": {},
   "outputs": [],
   "source": [
    "cumulant_subs_list = dict()\n",
    "\n",
    "for i1 in coords:\n",
    "    for i2 in coords:\n",
    "        cumulant_subs_list[n[i1+i2]] = ch[i1+i2] + m[i1]*m[i2]\n",
    "for i1 in coords:\n",
    "    for i2 in coords:\n",
    "        for i3 in coords:\n",
    "            cumulant_subs_list[l[i1+i2+i3]] = tau[i1+i2+i3] + m[i1]*ch[i2+i3] + m[i2]*ch[i1+i3] + m[i3]*ch[i1+i2] + m[i1]*m[i2]*m[i3]"
   ]
  },
  {
   "cell_type": "markdown",
   "id": "5f11abe7",
   "metadata": {},
   "source": [
    "## Framing the Equations"
   ]
  },
  {
   "cell_type": "code",
   "execution_count": 14,
   "id": "85713dc3",
   "metadata": {
    "scrolled": true
   },
   "outputs": [],
   "source": [
    "def diff(O):\n",
    "    H = S['x']\n",
    "    return sym.I*w0*comm(H,O) + (k/(s))*(comm(S['p'],O)*S['m'] + S['p']*comm(O,S['m']))"
   ]
  },
  {
   "cell_type": "code",
   "execution_count": 15,
   "id": "8272b1e2",
   "metadata": {},
   "outputs": [],
   "source": [
    "op_list = list()\n",
    "key_list = list()\n",
    "var_key_list = list()\n",
    "\n",
    "for i1 in coords:\n",
    "    op_list.append(S[i1])\n",
    "    key_list.append(m[i1])\n",
    "    var_key_list.append(m[i1])\n",
    "for i1 in coords:\n",
    "    for i2 in coords:\n",
    "        op_list.append((S[i1],S[i2]))\n",
    "        key_list.append(n[i1+i2])\n",
    "        var_key_list.append(ch[i1+i2])\n",
    "for i1 in coords:\n",
    "    for i2 in coords:\n",
    "        for i3 in coords:\n",
    "            op_list.append((S[i1],S[i2],S[i3]))\n",
    "            key_list.append(l[i1+i2+i3])\n",
    "            var_key_list.append(tau[i1+i2+i3])"
   ]
  },
  {
   "cell_type": "code",
   "execution_count": 16,
   "id": "3ab4472e",
   "metadata": {},
   "outputs": [],
   "source": [
    "diff_list = dict()\n",
    "var_diff_list = dict()\n",
    "for i,O in enumerate(op_list):\n",
    "    N = len(O) if isinstance(O, Iterable) else 1\n",
    "    exp = sym.expand(diff(O)/(s**N))\n",
    "    exp1 = exp.subs(subs_list)\n",
    "    exp2 = sym.simplify(exp1.subs(q_subs_list))\n",
    "    exp3 = sym.simplify(exp2.subs(comm_subs_list))\n",
    "    diff_list[key_list[i]] = exp3\n",
    "    var_diff_list[key_list[i]] = exp3"
   ]
  },
  {
   "cell_type": "code",
   "execution_count": 17,
   "id": "e0ec055f",
   "metadata": {},
   "outputs": [],
   "source": [
    "def mean_to_dev():\n",
    "    for key, values in var_diff_list.items():\n",
    "        var_diff_list[key] = sym.simplify(sym.expand(var_diff_list[key].subs(cumulant_subs_list)))\n",
    "        \n",
    "    for i1 in coords:\n",
    "        for i2 in coords:\n",
    "            var_diff_list[ch[i1+i2]] = var_diff_list[n[i1+i2]] - m[i1]*var_diff_list[m[i2]] - m[i2]*var_diff_list[m[i1]]\n",
    "    \n",
    "    for i1 in coords:\n",
    "        for i2 in coords:\n",
    "            for i3 in coords:\n",
    "                var_diff_list[tau[i1+i2+i3]] = var_diff_list[l[i1+i2+i3]] -\\\n",
    "                 (m[i1]*var_diff_list[ch[i2+i3]] + m[i2]*var_diff_list[ch[i1+i3]] + m[i3]*var_diff_list[ch[i1+i2]])-\\\n",
    "                  (var_diff_list[m[i1]]*ch[i2+i3] + var_diff_list[m[i2]]*ch[i1+i3] + var_diff_list[m[i3]]*ch[i1+i2])-\\\n",
    "                   (var_diff_list[m[i1]]*m[i2]*m[i3] + var_diff_list[m[i2]]*m[i1]*m[i3] + var_diff_list[m[i3]]*m[i1]*m[i2])\n",
    "                \n",
    "    for i1 in coords:\n",
    "        for i2 in coords:\n",
    "            var_diff_list.pop(n[i1+i2])\n",
    "    \n",
    "    for i1 in coords:\n",
    "        for i2 in coords:\n",
    "            for i3 in coords:\n",
    "                var_diff_list.pop(l[i1+i2+i3])\n",
    "\n",
    "\n",
    "    for key, values in var_diff_list.items():\n",
    "        exp = sym.simplify(var_diff_list[key].subs(var_comm_subs_list))\n",
    "        var_diff_list[key] = sym.expand(sym.simplify(exp))"
   ]
  },
  {
   "cell_type": "code",
   "execution_count": 18,
   "id": "b7bf2431",
   "metadata": {},
   "outputs": [],
   "source": [
    "mean_to_dev()"
   ]
  },
  {
   "cell_type": "code",
   "execution_count": 19,
   "id": "d2fea6d9",
   "metadata": {
    "scrolled": false
   },
   "outputs": [
    {
     "name": "stdout",
     "output_type": "stream",
     "text": [
      "2 \\kappa n_{xz}\n",
      "\n",
      "2 \\kappa n_{yz} - m_{z} \\omega_{0}\n",
      "\n",
      "- 2 \\kappa n_{xx} - 2 \\kappa n_{yy} + m_{y} \\omega_{0}\n",
      "\n",
      "4 \\kappa l_{xxz}\n",
      "\n",
      "4 \\kappa l_{xyz} - n_{xz} \\omega_{0}\n",
      "\n",
      "- 2 \\kappa l_{xxx} - 2 \\kappa l_{xyy} + 2 \\kappa l_{xzz} + n_{xy} \\omega_{0}\n",
      "\n",
      "4 \\kappa l_{xyz} - n_{xz} \\omega_{0}\n",
      "\n",
      "4 \\kappa l_{yyz} - 2 n_{yz} \\omega_{0}\n",
      "\n",
      "- 2 \\kappa l_{xxy} - 2 \\kappa l_{yyy} + 2 \\kappa l_{yzz} + n_{yy} \\omega_{0} - n_{zz} \\omega_{0}\n",
      "\n",
      "- 2 \\kappa l_{xxx} - 2 \\kappa l_{xyy} + 2 \\kappa l_{xzz} + n_{xy} \\omega_{0}\n",
      "\n",
      "- 2 \\kappa l_{xxy} - 2 \\kappa l_{yyy} + 2 \\kappa l_{yzz} + n_{yy} \\omega_{0} - n_{zz} \\omega_{0}\n",
      "\n",
      "- 4 \\kappa l_{xxz} - 4 \\kappa l_{yyz} + 2 n_{yz} \\omega_{0}\n",
      "\n",
      "6 \\kappa \\left(l_{xxx} m_{z} + 3 l_{xxz} m_{x} + 6 m_{x}^{3} m_{z} - 6 m_{x}^{2} n_{xz} - 6 m_{x} m_{z} n_{xx} + 3 n_{xx} n_{xz}\\right)\n",
      "\n",
      "6 \\kappa l_{xxy} m_{z} + 6 \\kappa l_{xxz} m_{y} + 12 \\kappa l_{xyz} m_{x} + 36 \\kappa m_{x}^{2} m_{y} m_{z} - 12 \\kappa m_{x}^{2} n_{yz} - 24 \\kappa m_{x} m_{y} n_{xz} - 24 \\kappa m_{x} m_{z} n_{xy} - 12 \\kappa m_{y} m_{z} n_{xx} + 6 \\kappa n_{xx} n_{yz} + 12 \\kappa n_{xy} n_{xz} - l_{xxz} \\omega_{0}\n",
      "\n",
      "- 8 \\kappa l_{xxx} m_{x} - 4 \\kappa l_{xxy} m_{y} + 8 \\kappa l_{xxz} m_{z} - 4 \\kappa l_{xyy} m_{x} + 8 \\kappa l_{xzz} m_{x} - 12 \\kappa m_{x}^{4} - 12 \\kappa m_{x}^{2} m_{y}^{2} + 24 \\kappa m_{x}^{2} m_{z}^{2} + 24 \\kappa m_{x}^{2} n_{xx} + 4 \\kappa m_{x}^{2} n_{yy} - 8 \\kappa m_{x}^{2} n_{zz} + 16 \\kappa m_{x} m_{y} n_{xy} - 32 \\kappa m_{x} m_{z} n_{xz} + 4 \\kappa m_{y}^{2} n_{xx} - 8 \\kappa m_{z}^{2} n_{xx} - 6 \\kappa n_{xx}^{2} - 2 \\kappa n_{xx} n_{yy} + 4 \\kappa n_{xx} n_{zz} - 4 \\kappa n_{xy}^{2} + 8 \\kappa n_{xz}^{2} + l_{xxy} \\omega_{0}\n",
      "\n",
      "6 \\kappa l_{xxy} m_{z} + 6 \\kappa l_{xxz} m_{y} + 12 \\kappa l_{xyz} m_{x} + 36 \\kappa m_{x}^{2} m_{y} m_{z} - 12 \\kappa m_{x}^{2} n_{yz} - 24 \\kappa m_{x} m_{y} n_{xz} - 24 \\kappa m_{x} m_{z} n_{xy} - 12 \\kappa m_{y} m_{z} n_{xx} + 6 \\kappa n_{xx} n_{yz} + 12 \\kappa n_{xy} n_{xz} - l_{xxz} \\omega_{0}\n",
      "\n",
      "6 \\kappa l_{xyy} m_{z} + 12 \\kappa l_{xyz} m_{y} + 6 \\kappa l_{yyz} m_{x} + 36 \\kappa m_{x} m_{y}^{2} m_{z} - 24 \\kappa m_{x} m_{y} n_{yz} - 12 \\kappa m_{x} m_{z} n_{yy} - 12 \\kappa m_{y}^{2} n_{xz} - 24 \\kappa m_{y} m_{z} n_{xy} + 12 \\kappa n_{xy} n_{yz} + 6 \\kappa n_{xz} n_{yy} - 2 l_{xyz} \\omega_{0}\n",
      "\n",
      "- 2 \\kappa l_{xxx} m_{y} - 6 \\kappa l_{xxy} m_{x} - 6 \\kappa l_{xyy} m_{y} + 8 \\kappa l_{xyz} m_{z} + 4 \\kappa l_{xzz} m_{y} - 2 \\kappa l_{yyy} m_{x} + 4 \\kappa l_{yzz} m_{x} - 12 \\kappa m_{x}^{3} m_{y} + 12 \\kappa m_{x}^{2} n_{xy} - 12 \\kappa m_{x} m_{y}^{3} + 24 \\kappa m_{x} m_{y} m_{z}^{2} + 12 \\kappa m_{x} m_{y} n_{xx} + 12 \\kappa m_{x} m_{y} n_{yy} - 8 \\kappa m_{x} m_{y} n_{zz} - 16 \\kappa m_{x} m_{z} n_{yz} + 12 \\kappa m_{y}^{2} n_{xy} - 16 \\kappa m_{y} m_{z} n_{xz} - 8 \\kappa m_{z}^{2} n_{xy} - 6 \\kappa n_{xx} n_{xy} - 6 \\kappa n_{xy} n_{yy} + 4 \\kappa n_{xy} n_{zz} + 8 \\kappa n_{xz} n_{yz} + l_{xyy} \\omega_{0} - l_{xzz} \\omega_{0}\n",
      "\n",
      "- 8 \\kappa l_{xxx} m_{x} - 4 \\kappa l_{xxy} m_{y} + 8 \\kappa l_{xxz} m_{z} - 4 \\kappa l_{xyy} m_{x} + 8 \\kappa l_{xzz} m_{x} - 12 \\kappa m_{x}^{4} - 12 \\kappa m_{x}^{2} m_{y}^{2} + 24 \\kappa m_{x}^{2} m_{z}^{2} + 24 \\kappa m_{x}^{2} n_{xx} + 4 \\kappa m_{x}^{2} n_{yy} - 8 \\kappa m_{x}^{2} n_{zz} + 16 \\kappa m_{x} m_{y} n_{xy} - 32 \\kappa m_{x} m_{z} n_{xz} + 4 \\kappa m_{y}^{2} n_{xx} - 8 \\kappa m_{z}^{2} n_{xx} - 6 \\kappa n_{xx}^{2} - 2 \\kappa n_{xx} n_{yy} + 4 \\kappa n_{xx} n_{zz} - 4 \\kappa n_{xy}^{2} + 8 \\kappa n_{xz}^{2} + l_{xxy} \\omega_{0}\n",
      "\n",
      "- 2 \\kappa l_{xxx} m_{y} - 6 \\kappa l_{xxy} m_{x} - 6 \\kappa l_{xyy} m_{y} + 8 \\kappa l_{xyz} m_{z} + 4 \\kappa l_{xzz} m_{y} - 2 \\kappa l_{yyy} m_{x} + 4 \\kappa l_{yzz} m_{x} - 12 \\kappa m_{x}^{3} m_{y} + 12 \\kappa m_{x}^{2} n_{xy} - 12 \\kappa m_{x} m_{y}^{3} + 24 \\kappa m_{x} m_{y} m_{z}^{2} + 12 \\kappa m_{x} m_{y} n_{xx} + 12 \\kappa m_{x} m_{y} n_{yy} - 8 \\kappa m_{x} m_{y} n_{zz} - 16 \\kappa m_{x} m_{z} n_{yz} + 12 \\kappa m_{y}^{2} n_{xy} - 16 \\kappa m_{y} m_{z} n_{xz} - 8 \\kappa m_{z}^{2} n_{xy} - 6 \\kappa n_{xx} n_{xy} - 6 \\kappa n_{xy} n_{yy} + 4 \\kappa n_{xy} n_{zz} + 8 \\kappa n_{xz} n_{yz} + l_{xyy} \\omega_{0} - l_{xzz} \\omega_{0}\n",
      "\n",
      "- 4 \\kappa l_{xxx} m_{z} - 12 \\kappa l_{xxz} m_{x} - 4 \\kappa l_{xyy} m_{z} - 8 \\kappa l_{xyz} m_{y} + 6 \\kappa l_{xzz} m_{z} - 4 \\kappa l_{yyz} m_{x} + 2 \\kappa l_{zzz} m_{x} - 24 \\kappa m_{x}^{3} m_{z} + 24 \\kappa m_{x}^{2} n_{xz} - 24 \\kappa m_{x} m_{y}^{2} m_{z} + 16 \\kappa m_{x} m_{y} n_{yz} + 12 \\kappa m_{x} m_{z}^{3} + 24 \\kappa m_{x} m_{z} n_{xx} + 8 \\kappa m_{x} m_{z} n_{yy} - 12 \\kappa m_{x} m_{z} n_{zz} + 8 \\kappa m_{y}^{2} n_{xz} + 16 \\kappa m_{y} m_{z} n_{xy} - 12 \\kappa m_{z}^{2} n_{xz} - 12 \\kappa n_{xx} n_{xz} - 8 \\kappa n_{xy} n_{yz} - 4 \\kappa n_{xz} n_{yy} + 6 \\kappa n_{xz} n_{zz} + 2 l_{xyz} \\omega_{0}\n",
      "\n",
      "6 \\kappa l_{xxy} m_{z} + 6 \\kappa l_{xxz} m_{y} + 12 \\kappa l_{xyz} m_{x} + 36 \\kappa m_{x}^{2} m_{y} m_{z} - 12 \\kappa m_{x}^{2} n_{yz} - 24 \\kappa m_{x} m_{y} n_{xz} - 24 \\kappa m_{x} m_{z} n_{xy} - 12 \\kappa m_{y} m_{z} n_{xx} + 6 \\kappa n_{xx} n_{yz} + 12 \\kappa n_{xy} n_{xz} - l_{xxz} \\omega_{0}\n",
      "\n",
      "6 \\kappa l_{xyy} m_{z} + 12 \\kappa l_{xyz} m_{y} + 6 \\kappa l_{yyz} m_{x} + 36 \\kappa m_{x} m_{y}^{2} m_{z} - 24 \\kappa m_{x} m_{y} n_{yz} - 12 \\kappa m_{x} m_{z} n_{yy} - 12 \\kappa m_{y}^{2} n_{xz} - 24 \\kappa m_{y} m_{z} n_{xy} + 12 \\kappa n_{xy} n_{yz} + 6 \\kappa n_{xz} n_{yy} - 2 l_{xyz} \\omega_{0}\n",
      "\n",
      "- 2 \\kappa l_{xxx} m_{y} - 6 \\kappa l_{xxy} m_{x} - 6 \\kappa l_{xyy} m_{y} + 8 \\kappa l_{xyz} m_{z} + 4 \\kappa l_{xzz} m_{y} - 2 \\kappa l_{yyy} m_{x} + 4 \\kappa l_{yzz} m_{x} - 12 \\kappa m_{x}^{3} m_{y} + 12 \\kappa m_{x}^{2} n_{xy} - 12 \\kappa m_{x} m_{y}^{3} + 24 \\kappa m_{x} m_{y} m_{z}^{2} + 12 \\kappa m_{x} m_{y} n_{xx} + 12 \\kappa m_{x} m_{y} n_{yy} - 8 \\kappa m_{x} m_{y} n_{zz} - 16 \\kappa m_{x} m_{z} n_{yz} + 12 \\kappa m_{y}^{2} n_{xy} - 16 \\kappa m_{y} m_{z} n_{xz} - 8 \\kappa m_{z}^{2} n_{xy} - 6 \\kappa n_{xx} n_{xy} - 6 \\kappa n_{xy} n_{yy} + 4 \\kappa n_{xy} n_{zz} + 8 \\kappa n_{xz} n_{yz} + l_{xyy} \\omega_{0} - l_{xzz} \\omega_{0}\n",
      "\n",
      "6 \\kappa l_{xyy} m_{z} + 12 \\kappa l_{xyz} m_{y} + 6 \\kappa l_{yyz} m_{x} + 36 \\kappa m_{x} m_{y}^{2} m_{z} - 24 \\kappa m_{x} m_{y} n_{yz} - 12 \\kappa m_{x} m_{z} n_{yy} - 12 \\kappa m_{y}^{2} n_{xz} - 24 \\kappa m_{y} m_{z} n_{xy} + 12 \\kappa n_{xy} n_{yz} + 6 \\kappa n_{xz} n_{yy} - 2 l_{xyz} \\omega_{0}\n",
      "\n",
      "6 \\kappa l_{yyy} m_{z} + 18 \\kappa l_{yyz} m_{y} + 36 \\kappa m_{y}^{3} m_{z} - 36 \\kappa m_{y}^{2} n_{yz} - 36 \\kappa m_{y} m_{z} n_{yy} + 18 \\kappa n_{yy} n_{yz} - 3 l_{yyz} \\omega_{0}\n",
      "\n",
      "- 4 \\kappa l_{xxy} m_{y} - 4 \\kappa l_{xyy} m_{x} - 8 \\kappa l_{yyy} m_{y} + 8 \\kappa l_{yyz} m_{z} + 8 \\kappa l_{yzz} m_{y} - 12 \\kappa m_{x}^{2} m_{y}^{2} + 4 \\kappa m_{x}^{2} n_{yy} + 16 \\kappa m_{x} m_{y} n_{xy} - 12 \\kappa m_{y}^{4} + 24 \\kappa m_{y}^{2} m_{z}^{2} + 4 \\kappa m_{y}^{2} n_{xx} + 24 \\kappa m_{y}^{2} n_{yy} - 8 \\kappa m_{y}^{2} n_{zz} - 32 \\kappa m_{y} m_{z} n_{yz} - 8 \\kappa m_{z}^{2} n_{yy} - 2 \\kappa n_{xx} n_{yy} - 4 \\kappa n_{xy}^{2} - 6 \\kappa n_{yy}^{2} + 4 \\kappa n_{yy} n_{zz} + 8 \\kappa n_{yz}^{2} + l_{yyy} \\omega_{0} - 2 l_{yzz} \\omega_{0}\n",
      "\n",
      "- 2 \\kappa l_{xxx} m_{y} - 6 \\kappa l_{xxy} m_{x} - 6 \\kappa l_{xyy} m_{y} + 8 \\kappa l_{xyz} m_{z} + 4 \\kappa l_{xzz} m_{y} - 2 \\kappa l_{yyy} m_{x} + 4 \\kappa l_{yzz} m_{x} - 12 \\kappa m_{x}^{3} m_{y} + 12 \\kappa m_{x}^{2} n_{xy} - 12 \\kappa m_{x} m_{y}^{3} + 24 \\kappa m_{x} m_{y} m_{z}^{2} + 12 \\kappa m_{x} m_{y} n_{xx} + 12 \\kappa m_{x} m_{y} n_{yy} - 8 \\kappa m_{x} m_{y} n_{zz} - 16 \\kappa m_{x} m_{z} n_{yz} + 12 \\kappa m_{y}^{2} n_{xy} - 16 \\kappa m_{y} m_{z} n_{xz} - 8 \\kappa m_{z}^{2} n_{xy} - 6 \\kappa n_{xx} n_{xy} - 6 \\kappa n_{xy} n_{yy} + 4 \\kappa n_{xy} n_{zz} + 8 \\kappa n_{xz} n_{yz} + l_{xyy} \\omega_{0} - l_{xzz} \\omega_{0}\n",
      "\n",
      "- 4 \\kappa l_{xxy} m_{y} - 4 \\kappa l_{xyy} m_{x} - 8 \\kappa l_{yyy} m_{y} + 8 \\kappa l_{yyz} m_{z} + 8 \\kappa l_{yzz} m_{y} - 12 \\kappa m_{x}^{2} m_{y}^{2} + 4 \\kappa m_{x}^{2} n_{yy} + 16 \\kappa m_{x} m_{y} n_{xy} - 12 \\kappa m_{y}^{4} + 24 \\kappa m_{y}^{2} m_{z}^{2} + 4 \\kappa m_{y}^{2} n_{xx} + 24 \\kappa m_{y}^{2} n_{yy} - 8 \\kappa m_{y}^{2} n_{zz} - 32 \\kappa m_{y} m_{z} n_{yz} - 8 \\kappa m_{z}^{2} n_{yy} - 2 \\kappa n_{xx} n_{yy} - 4 \\kappa n_{xy}^{2} - 6 \\kappa n_{yy}^{2} + 4 \\kappa n_{yy} n_{zz} + 8 \\kappa n_{yz}^{2} + l_{yyy} \\omega_{0} - 2 l_{yzz} \\omega_{0}\n",
      "\n",
      "- 4 \\kappa l_{xxy} m_{z} - 4 \\kappa l_{xxz} m_{y} - 8 \\kappa l_{xyz} m_{x} - 4 \\kappa l_{yyy} m_{z} - 12 \\kappa l_{yyz} m_{y} + 6 \\kappa l_{yzz} m_{z} + 2 \\kappa l_{zzz} m_{y} - 24 \\kappa m_{x}^{2} m_{y} m_{z} + 8 \\kappa m_{x}^{2} n_{yz} + 16 \\kappa m_{x} m_{y} n_{xz} + 16 \\kappa m_{x} m_{z} n_{xy} - 24 \\kappa m_{y}^{3} m_{z} + 24 \\kappa m_{y}^{2} n_{yz} + 12 \\kappa m_{y} m_{z}^{3} + 8 \\kappa m_{y} m_{z} n_{xx} + 24 \\kappa m_{y} m_{z} n_{yy} - 12 \\kappa m_{y} m_{z} n_{zz} - 12 \\kappa m_{z}^{2} n_{yz} - 4 \\kappa n_{xx} n_{yz} - 8 \\kappa n_{xy} n_{xz} - 12 \\kappa n_{yy} n_{yz} + 6 \\kappa n_{yz} n_{zz} + 2 l_{yyz} \\omega_{0} - l_{zzz} \\omega_{0}\n",
      "\n",
      "- 8 \\kappa l_{xxx} m_{x} - 4 \\kappa l_{xxy} m_{y} + 8 \\kappa l_{xxz} m_{z} - 4 \\kappa l_{xyy} m_{x} + 8 \\kappa l_{xzz} m_{x} - 12 \\kappa m_{x}^{4} - 12 \\kappa m_{x}^{2} m_{y}^{2} + 24 \\kappa m_{x}^{2} m_{z}^{2} + 24 \\kappa m_{x}^{2} n_{xx} + 4 \\kappa m_{x}^{2} n_{yy} - 8 \\kappa m_{x}^{2} n_{zz} + 16 \\kappa m_{x} m_{y} n_{xy} - 32 \\kappa m_{x} m_{z} n_{xz} + 4 \\kappa m_{y}^{2} n_{xx} - 8 \\kappa m_{z}^{2} n_{xx} - 6 \\kappa n_{xx}^{2} - 2 \\kappa n_{xx} n_{yy} + 4 \\kappa n_{xx} n_{zz} - 4 \\kappa n_{xy}^{2} + 8 \\kappa n_{xz}^{2} + l_{xxy} \\omega_{0}\n",
      "\n",
      "- 2 \\kappa l_{xxx} m_{y} - 6 \\kappa l_{xxy} m_{x} - 6 \\kappa l_{xyy} m_{y} + 8 \\kappa l_{xyz} m_{z} + 4 \\kappa l_{xzz} m_{y} - 2 \\kappa l_{yyy} m_{x} + 4 \\kappa l_{yzz} m_{x} - 12 \\kappa m_{x}^{3} m_{y} + 12 \\kappa m_{x}^{2} n_{xy} - 12 \\kappa m_{x} m_{y}^{3} + 24 \\kappa m_{x} m_{y} m_{z}^{2} + 12 \\kappa m_{x} m_{y} n_{xx} + 12 \\kappa m_{x} m_{y} n_{yy} - 8 \\kappa m_{x} m_{y} n_{zz} - 16 \\kappa m_{x} m_{z} n_{yz} + 12 \\kappa m_{y}^{2} n_{xy} - 16 \\kappa m_{y} m_{z} n_{xz} - 8 \\kappa m_{z}^{2} n_{xy} - 6 \\kappa n_{xx} n_{xy} - 6 \\kappa n_{xy} n_{yy} + 4 \\kappa n_{xy} n_{zz} + 8 \\kappa n_{xz} n_{yz} + l_{xyy} \\omega_{0} - l_{xzz} \\omega_{0}\n",
      "\n",
      "- 4 \\kappa l_{xxx} m_{z} - 12 \\kappa l_{xxz} m_{x} - 4 \\kappa l_{xyy} m_{z} - 8 \\kappa l_{xyz} m_{y} + 6 \\kappa l_{xzz} m_{z} - 4 \\kappa l_{yyz} m_{x} + 2 \\kappa l_{zzz} m_{x} - 24 \\kappa m_{x}^{3} m_{z} + 24 \\kappa m_{x}^{2} n_{xz} - 24 \\kappa m_{x} m_{y}^{2} m_{z} + 16 \\kappa m_{x} m_{y} n_{yz} + 12 \\kappa m_{x} m_{z}^{3} + 24 \\kappa m_{x} m_{z} n_{xx} + 8 \\kappa m_{x} m_{z} n_{yy} - 12 \\kappa m_{x} m_{z} n_{zz} + 8 \\kappa m_{y}^{2} n_{xz} + 16 \\kappa m_{y} m_{z} n_{xy} - 12 \\kappa m_{z}^{2} n_{xz} - 12 \\kappa n_{xx} n_{xz} - 8 \\kappa n_{xy} n_{yz} - 4 \\kappa n_{xz} n_{yy} + 6 \\kappa n_{xz} n_{zz} + 2 l_{xyz} \\omega_{0}\n",
      "\n",
      "- 2 \\kappa l_{xxx} m_{y} - 6 \\kappa l_{xxy} m_{x} - 6 \\kappa l_{xyy} m_{y} + 8 \\kappa l_{xyz} m_{z} + 4 \\kappa l_{xzz} m_{y} - 2 \\kappa l_{yyy} m_{x} + 4 \\kappa l_{yzz} m_{x} - 12 \\kappa m_{x}^{3} m_{y} + 12 \\kappa m_{x}^{2} n_{xy} - 12 \\kappa m_{x} m_{y}^{3} + 24 \\kappa m_{x} m_{y} m_{z}^{2} + 12 \\kappa m_{x} m_{y} n_{xx} + 12 \\kappa m_{x} m_{y} n_{yy} - 8 \\kappa m_{x} m_{y} n_{zz} - 16 \\kappa m_{x} m_{z} n_{yz} + 12 \\kappa m_{y}^{2} n_{xy} - 16 \\kappa m_{y} m_{z} n_{xz} - 8 \\kappa m_{z}^{2} n_{xy} - 6 \\kappa n_{xx} n_{xy} - 6 \\kappa n_{xy} n_{yy} + 4 \\kappa n_{xy} n_{zz} + 8 \\kappa n_{xz} n_{yz} + l_{xyy} \\omega_{0} - l_{xzz} \\omega_{0}\n",
      "\n",
      "- 4 \\kappa l_{xxy} m_{y} - 4 \\kappa l_{xyy} m_{x} - 8 \\kappa l_{yyy} m_{y} + 8 \\kappa l_{yyz} m_{z} + 8 \\kappa l_{yzz} m_{y} - 12 \\kappa m_{x}^{2} m_{y}^{2} + 4 \\kappa m_{x}^{2} n_{yy} + 16 \\kappa m_{x} m_{y} n_{xy} - 12 \\kappa m_{y}^{4} + 24 \\kappa m_{y}^{2} m_{z}^{2} + 4 \\kappa m_{y}^{2} n_{xx} + 24 \\kappa m_{y}^{2} n_{yy} - 8 \\kappa m_{y}^{2} n_{zz} - 32 \\kappa m_{y} m_{z} n_{yz} - 8 \\kappa m_{z}^{2} n_{yy} - 2 \\kappa n_{xx} n_{yy} - 4 \\kappa n_{xy}^{2} - 6 \\kappa n_{yy}^{2} + 4 \\kappa n_{yy} n_{zz} + 8 \\kappa n_{yz}^{2} + l_{yyy} \\omega_{0} - 2 l_{yzz} \\omega_{0}\n",
      "\n"
     ]
    },
    {
     "name": "stdout",
     "output_type": "stream",
     "text": [
      "- 4 \\kappa l_{xxy} m_{z} - 4 \\kappa l_{xxz} m_{y} - 8 \\kappa l_{xyz} m_{x} - 4 \\kappa l_{yyy} m_{z} - 12 \\kappa l_{yyz} m_{y} + 6 \\kappa l_{yzz} m_{z} + 2 \\kappa l_{zzz} m_{y} - 24 \\kappa m_{x}^{2} m_{y} m_{z} + 8 \\kappa m_{x}^{2} n_{yz} + 16 \\kappa m_{x} m_{y} n_{xz} + 16 \\kappa m_{x} m_{z} n_{xy} - 24 \\kappa m_{y}^{3} m_{z} + 24 \\kappa m_{y}^{2} n_{yz} + 12 \\kappa m_{y} m_{z}^{3} + 8 \\kappa m_{y} m_{z} n_{xx} + 24 \\kappa m_{y} m_{z} n_{yy} - 12 \\kappa m_{y} m_{z} n_{zz} - 12 \\kappa m_{z}^{2} n_{yz} - 4 \\kappa n_{xx} n_{yz} - 8 \\kappa n_{xy} n_{xz} - 12 \\kappa n_{yy} n_{yz} + 6 \\kappa n_{yz} n_{zz} + 2 l_{yyz} \\omega_{0} - l_{zzz} \\omega_{0}\n",
      "\n",
      "- 4 \\kappa l_{xxx} m_{z} - 12 \\kappa l_{xxz} m_{x} - 4 \\kappa l_{xyy} m_{z} - 8 \\kappa l_{xyz} m_{y} + 6 \\kappa l_{xzz} m_{z} - 4 \\kappa l_{yyz} m_{x} + 2 \\kappa l_{zzz} m_{x} - 24 \\kappa m_{x}^{3} m_{z} + 24 \\kappa m_{x}^{2} n_{xz} - 24 \\kappa m_{x} m_{y}^{2} m_{z} + 16 \\kappa m_{x} m_{y} n_{yz} + 12 \\kappa m_{x} m_{z}^{3} + 24 \\kappa m_{x} m_{z} n_{xx} + 8 \\kappa m_{x} m_{z} n_{yy} - 12 \\kappa m_{x} m_{z} n_{zz} + 8 \\kappa m_{y}^{2} n_{xz} + 16 \\kappa m_{y} m_{z} n_{xy} - 12 \\kappa m_{z}^{2} n_{xz} - 12 \\kappa n_{xx} n_{xz} - 8 \\kappa n_{xy} n_{yz} - 4 \\kappa n_{xz} n_{yy} + 6 \\kappa n_{xz} n_{zz} + 2 l_{xyz} \\omega_{0}\n",
      "\n",
      "- 4 \\kappa l_{xxy} m_{z} - 4 \\kappa l_{xxz} m_{y} - 8 \\kappa l_{xyz} m_{x} - 4 \\kappa l_{yyy} m_{z} - 12 \\kappa l_{yyz} m_{y} + 6 \\kappa l_{yzz} m_{z} + 2 \\kappa l_{zzz} m_{y} - 24 \\kappa m_{x}^{2} m_{y} m_{z} + 8 \\kappa m_{x}^{2} n_{yz} + 16 \\kappa m_{x} m_{y} n_{xz} + 16 \\kappa m_{x} m_{z} n_{xy} - 24 \\kappa m_{y}^{3} m_{z} + 24 \\kappa m_{y}^{2} n_{yz} + 12 \\kappa m_{y} m_{z}^{3} + 8 \\kappa m_{y} m_{z} n_{xx} + 24 \\kappa m_{y} m_{z} n_{yy} - 12 \\kappa m_{y} m_{z} n_{zz} - 12 \\kappa m_{z}^{2} n_{yz} - 4 \\kappa n_{xx} n_{yz} - 8 \\kappa n_{xy} n_{xz} - 12 \\kappa n_{yy} n_{yz} + 6 \\kappa n_{yz} n_{zz} + 2 l_{yyz} \\omega_{0} - l_{zzz} \\omega_{0}\n",
      "\n",
      "- 12 \\kappa l_{xxz} m_{z} - 12 \\kappa l_{xzz} m_{x} - 12 \\kappa l_{yyz} m_{z} - 12 \\kappa l_{yzz} m_{y} - 36 \\kappa m_{x}^{2} m_{z}^{2} + 12 \\kappa m_{x}^{2} n_{zz} + 48 \\kappa m_{x} m_{z} n_{xz} - 36 \\kappa m_{y}^{2} m_{z}^{2} + 12 \\kappa m_{y}^{2} n_{zz} + 48 \\kappa m_{y} m_{z} n_{yz} + 12 \\kappa m_{z}^{2} n_{xx} + 12 \\kappa m_{z}^{2} n_{yy} - 6 \\kappa n_{xx} n_{zz} - 12 \\kappa n_{xz}^{2} - 6 \\kappa n_{yy} n_{zz} - 12 \\kappa n_{yz}^{2} + 3 l_{yzz} \\omega_{0}\n",
      "\n"
     ]
    }
   ],
   "source": [
    "for key in diff_list:\n",
    "#     print(sym.latex(key))\n",
    "    print(sym.latex(diff_list[key]))\n",
    "    #display(key,diff_list[key])\n",
    "    print()"
   ]
  },
  {
   "cell_type": "code",
   "execution_count": 20,
   "id": "fcff57d2",
   "metadata": {
    "scrolled": false
   },
   "outputs": [
    {
     "name": "stdout",
     "output_type": "stream",
     "text": [
      "m_{x}\n",
      "2 \\chi_{xz} \\kappa + 2 \\kappa m_{x} m_{z}\n",
      "\n",
      "m_{y}\n",
      "2 \\chi_{yz} \\kappa + 2 \\kappa m_{y} m_{z} - m_{z} \\omega_{0}\n",
      "\n",
      "m_{z}\n",
      "- 2 \\chi_{xx} \\kappa - 2 \\chi_{yy} \\kappa - 2 \\kappa m_{x}^{2} - 2 \\kappa m_{y}^{2} + m_{y} \\omega_{0}\n",
      "\n",
      "\\chi_{xx}\n",
      "4 \\chi_{xx} \\kappa m_{z} + 4 \\chi_{xz} \\kappa m_{x} + 4 \\kappa \\tau_{xxz}\n",
      "\n",
      "\\chi_{xy}\n",
      "4 \\chi_{xy} \\kappa m_{z} + 2 \\chi_{xz} \\kappa m_{y} - \\chi_{xz} \\omega_{0} + 2 \\chi_{yz} \\kappa m_{x} + 4 \\kappa \\tau_{xyz}\n",
      "\n",
      "\\chi_{xz}\n",
      "- 4 \\chi_{xx} \\kappa m_{x} - 4 \\chi_{xy} \\kappa m_{y} + \\chi_{xy} \\omega_{0} + 2 \\chi_{xz} \\kappa m_{z} + 2 \\chi_{zz} \\kappa m_{x} - 2 \\kappa \\tau_{xxx} - 2 \\kappa \\tau_{xyy} + 2 \\kappa \\tau_{xzz}\n",
      "\n",
      "\\chi_{yx}\n",
      "4 \\chi_{xy} \\kappa m_{z} + 2 \\chi_{xz} \\kappa m_{y} - \\chi_{xz} \\omega_{0} + 2 \\chi_{yz} \\kappa m_{x} + 4 \\kappa \\tau_{xyz}\n",
      "\n",
      "\\chi_{yy}\n",
      "4 \\chi_{yy} \\kappa m_{z} + 4 \\chi_{yz} \\kappa m_{y} - 2 \\chi_{yz} \\omega_{0} + 4 \\kappa \\tau_{yyz}\n",
      "\n",
      "\\chi_{yz}\n",
      "- 4 \\chi_{xy} \\kappa m_{x} - 4 \\chi_{yy} \\kappa m_{y} + \\chi_{yy} \\omega_{0} + 2 \\chi_{yz} \\kappa m_{z} + 2 \\chi_{zz} \\kappa m_{y} - \\chi_{zz} \\omega_{0} - 2 \\kappa \\tau_{xxy} - 2 \\kappa \\tau_{yyy} + 2 \\kappa \\tau_{yzz}\n",
      "\n",
      "\\chi_{zx}\n",
      "- 4 \\chi_{xx} \\kappa m_{x} - 4 \\chi_{xy} \\kappa m_{y} + \\chi_{xy} \\omega_{0} + 2 \\chi_{xz} \\kappa m_{z} + 2 \\chi_{zz} \\kappa m_{x} - 2 \\kappa \\tau_{xxx} - 2 \\kappa \\tau_{xyy} + 2 \\kappa \\tau_{xzz}\n",
      "\n",
      "\\chi_{zy}\n",
      "- 4 \\chi_{xy} \\kappa m_{x} - 4 \\chi_{yy} \\kappa m_{y} + \\chi_{yy} \\omega_{0} + 2 \\chi_{yz} \\kappa m_{z} + 2 \\chi_{zz} \\kappa m_{y} - \\chi_{zz} \\omega_{0} - 2 \\kappa \\tau_{xxy} - 2 \\kappa \\tau_{yyy} + 2 \\kappa \\tau_{yzz}\n",
      "\n",
      "\\chi_{zz}\n",
      "- 8 \\chi_{xz} \\kappa m_{x} - 8 \\chi_{yz} \\kappa m_{y} + 2 \\chi_{yz} \\omega_{0} - 4 \\kappa \\tau_{xxz} - 4 \\kappa \\tau_{yyz}\n",
      "\n",
      "\\tau_{xxx}\n",
      "12 \\chi_{xx} \\chi_{xz} \\kappa + 6 \\kappa m_{x} \\tau_{xxz} + 6 \\kappa m_{z} \\tau_{xxx}\n",
      "\n",
      "\\tau_{xxy}\n",
      "4 \\chi_{xx} \\chi_{yz} \\kappa + 8 \\chi_{xy} \\chi_{xz} \\kappa + 4 \\kappa m_{x} \\tau_{xyz} + 2 \\kappa m_{y} \\tau_{xxz} + 6 \\kappa m_{z} \\tau_{xxy} - \\omega_{0} \\tau_{xxz}\n",
      "\n",
      "\\tau_{xxz}\n",
      "- 4 \\chi_{xx}^{2} \\kappa + 4 \\chi_{xx} \\chi_{zz} \\kappa - 4 \\chi_{xy}^{2} \\kappa + 4 \\chi_{xz}^{2} \\kappa - 4 \\kappa m_{x} \\tau_{xxx} + 4 \\kappa m_{x} \\tau_{xzz} - 4 \\kappa m_{y} \\tau_{xxy} + 4 \\kappa m_{z} \\tau_{xxz} + \\omega_{0} \\tau_{xxy}\n",
      "\n",
      "\\tau_{xyx}\n",
      "4 \\chi_{xx} \\chi_{yz} \\kappa + 10 \\chi_{xy} \\chi_{xz} \\kappa + 2 \\chi_{xy} \\kappa m_{x} m_{z} - 2 \\chi_{xz} \\chi_{yx} \\kappa - 2 \\chi_{yx} \\kappa m_{x} m_{z} + 4 \\kappa m_{x} \\tau_{xyz} + 2 \\kappa m_{y} \\tau_{xxz} + 6 \\kappa m_{z} \\tau_{xxy} - \\omega_{0} \\tau_{xxz}\n",
      "\n",
      "\\tau_{xyy}\n",
      "8 \\chi_{xy} \\chi_{yz} \\kappa + 4 \\chi_{xz} \\chi_{yy} \\kappa + 2 \\kappa m_{x} \\tau_{yyz} + 4 \\kappa m_{y} \\tau_{xyz} + 6 \\kappa m_{z} \\tau_{xyy} - 2 \\omega_{0} \\tau_{xyz}\n",
      "\n",
      "\\tau_{xyz}\n",
      "- 4 \\chi_{xx} \\chi_{xy} \\kappa - 4 \\chi_{xy} \\chi_{yy} \\kappa + 4 \\chi_{xy} \\chi_{zz} \\kappa + 4 \\chi_{xz} \\chi_{yz} \\kappa - 4 \\kappa m_{x} \\tau_{xxy} + 2 \\kappa m_{x} \\tau_{yzz} - 4 \\kappa m_{y} \\tau_{xyy} + 2 \\kappa m_{y} \\tau_{xzz} + 4 \\kappa m_{z} \\tau_{xyz} + \\omega_{0} \\tau_{xyy} - \\omega_{0} \\tau_{xzz}\n",
      "\n",
      "\\tau_{xzx}\n",
      "- 4 \\chi_{xx}^{2} \\kappa + 4 \\chi_{xx} \\chi_{zz} \\kappa - 4 \\chi_{xy}^{2} \\kappa + 6 \\chi_{xz}^{2} \\kappa - 2 \\chi_{xz} \\chi_{zx} \\kappa + 2 \\chi_{xz} \\kappa m_{x} m_{z} - 2 \\chi_{zx} \\kappa m_{x} m_{z} - 4 \\kappa m_{x} \\tau_{xxx} + 4 \\kappa m_{x} \\tau_{xzz} - 4 \\kappa m_{y} \\tau_{xxy} + 4 \\kappa m_{z} \\tau_{xxz} + \\omega_{0} \\tau_{xxy}\n",
      "\n",
      "\\tau_{xzy}\n",
      "- 4 \\chi_{xx} \\chi_{xy} \\kappa - 4 \\chi_{xy} \\chi_{yy} \\kappa + 4 \\chi_{xy} \\chi_{zz} \\kappa + 6 \\chi_{xz} \\chi_{yz} \\kappa - 2 \\chi_{xz} \\chi_{zy} \\kappa + 2 \\chi_{yz} \\kappa m_{x} m_{z} - 2 \\chi_{zy} \\kappa m_{x} m_{z} - 4 \\kappa m_{x} \\tau_{xxy} + 2 \\kappa m_{x} \\tau_{yzz} - 4 \\kappa m_{y} \\tau_{xyy} + 2 \\kappa m_{y} \\tau_{xzz} + 4 \\kappa m_{z} \\tau_{xyz} + \\omega_{0} \\tau_{xyy} - \\omega_{0} \\tau_{xzz}\n",
      "\n",
      "\\tau_{xzz}\n",
      "- 8 \\chi_{xx} \\chi_{xz} \\kappa - 8 \\chi_{xy} \\chi_{yz} \\kappa + 4 \\chi_{xz} \\chi_{zz} \\kappa - 8 \\kappa m_{x} \\tau_{xxz} + 2 \\kappa m_{x} \\tau_{zzz} - 8 \\kappa m_{y} \\tau_{xyz} + 2 \\kappa m_{z} \\tau_{xzz} + 2 \\omega_{0} \\tau_{xyz}\n",
      "\n",
      "\\tau_{yxx}\n",
      "4 \\chi_{xx} \\chi_{yz} \\kappa + 12 \\chi_{xy} \\chi_{xz} \\kappa + 4 \\chi_{xy} \\kappa m_{x} m_{z} - 4 \\chi_{xz} \\chi_{yx} \\kappa - 4 \\chi_{yx} \\kappa m_{x} m_{z} + 4 \\kappa m_{x} \\tau_{xyz} + 2 \\kappa m_{y} \\tau_{xxz} + 6 \\kappa m_{z} \\tau_{xxy} - \\omega_{0} \\tau_{xxz}\n",
      "\n",
      "\\tau_{yxy}\n",
      "10 \\chi_{xy} \\chi_{yz} \\kappa + 2 \\chi_{xy} \\kappa m_{y} m_{z} - \\chi_{xy} m_{z} \\omega_{0} + 4 \\chi_{xz} \\chi_{yy} \\kappa - 2 \\chi_{yx} \\chi_{yz} \\kappa - 2 \\chi_{yx} \\kappa m_{y} m_{z} + \\chi_{yx} m_{z} \\omega_{0} + 2 \\kappa m_{x} \\tau_{yyz} + 4 \\kappa m_{y} \\tau_{xyz} + 6 \\kappa m_{z} \\tau_{xyy} - 2 \\omega_{0} \\tau_{xyz}\n",
      "\n",
      "\\tau_{yxz}\n",
      "- 6 \\chi_{xx} \\chi_{xy} \\kappa + 2 \\chi_{xx} \\chi_{yx} \\kappa - 6 \\chi_{xy} \\chi_{yy} \\kappa + 4 \\chi_{xy} \\chi_{zz} \\kappa - 2 \\chi_{xy} \\kappa m_{x}^{2} - 2 \\chi_{xy} \\kappa m_{y}^{2} + \\chi_{xy} m_{y} \\omega_{0} + 4 \\chi_{xz} \\chi_{yz} \\kappa + 2 \\chi_{yx} \\chi_{yy} \\kappa + 2 \\chi_{yx} \\kappa m_{x}^{2} + 2 \\chi_{yx} \\kappa m_{y}^{2} - \\chi_{yx} m_{y} \\omega_{0} - 4 \\kappa m_{x} \\tau_{xxy} + 2 \\kappa m_{x} \\tau_{yzz} - 4 \\kappa m_{y} \\tau_{xyy} + 2 \\kappa m_{y} \\tau_{xzz} + 4 \\kappa m_{z} \\tau_{xyz} + \\omega_{0} \\tau_{xyy} - \\omega_{0} \\tau_{xzz}\n",
      "\n",
      "\\tau_{yyx}\n",
      "12 \\chi_{xy} \\chi_{yz} \\kappa + 4 \\chi_{xy} \\kappa m_{y} m_{z} - 2 \\chi_{xy} m_{z} \\omega_{0} + 4 \\chi_{xz} \\chi_{yy} \\kappa - 4 \\chi_{yx} \\chi_{yz} \\kappa - 4 \\chi_{yx} \\kappa m_{y} m_{z} + 2 \\chi_{yx} m_{z} \\omega_{0} + 2 \\kappa m_{x} \\tau_{yyz} + 4 \\kappa m_{y} \\tau_{xyz} + 6 \\kappa m_{z} \\tau_{xyy} - 2 \\omega_{0} \\tau_{xyz}\n",
      "\n",
      "\\tau_{yyy}\n",
      "12 \\chi_{yy} \\chi_{yz} \\kappa + 6 \\kappa m_{y} \\tau_{yyz} + 6 \\kappa m_{z} \\tau_{yyy} - 3 \\omega_{0} \\tau_{yyz}\n",
      "\n",
      "\\tau_{yyz}\n",
      "- 4 \\chi_{xy}^{2} \\kappa - 4 \\chi_{yy}^{2} \\kappa + 4 \\chi_{yy} \\chi_{zz} \\kappa + 4 \\chi_{yz}^{2} \\kappa - 4 \\kappa m_{x} \\tau_{xyy} - 4 \\kappa m_{y} \\tau_{yyy} + 4 \\kappa m_{y} \\tau_{yzz} + 4 \\kappa m_{z} \\tau_{yyz} + \\omega_{0} \\tau_{yyy} - 2 \\omega_{0} \\tau_{yzz}\n",
      "\n",
      "\\tau_{yzx}\n",
      "- 6 \\chi_{xx} \\chi_{xy} \\kappa + 2 \\chi_{xx} \\chi_{yx} \\kappa - 6 \\chi_{xy} \\chi_{yy} \\kappa + 4 \\chi_{xy} \\chi_{zz} \\kappa - 2 \\chi_{xy} \\kappa m_{x}^{2} - 2 \\chi_{xy} \\kappa m_{y}^{2} + \\chi_{xy} m_{y} \\omega_{0} + 6 \\chi_{xz} \\chi_{yz} \\kappa + 2 \\chi_{xz} \\kappa m_{y} m_{z} - \\chi_{xz} m_{z} \\omega_{0} + 2 \\chi_{yx} \\chi_{yy} \\kappa + 2 \\chi_{yx} \\kappa m_{x}^{2} + 2 \\chi_{yx} \\kappa m_{y}^{2} - \\chi_{yx} m_{y} \\omega_{0} - 2 \\chi_{yz} \\chi_{zx} \\kappa - 2 \\chi_{zx} \\kappa m_{y} m_{z} + \\chi_{zx} m_{z} \\omega_{0} - 4 \\kappa m_{x} \\tau_{xxy} + 2 \\kappa m_{x} \\tau_{yzz} - 4 \\kappa m_{y} \\tau_{xyy} + 2 \\kappa m_{y} \\tau_{xzz} + 4 \\kappa m_{z} \\tau_{xyz} + \\omega_{0} \\tau_{xyy} - \\omega_{0} \\tau_{xzz}\n",
      "\n",
      "\\tau_{yzy}\n",
      "- 4 \\chi_{xy}^{2} \\kappa - 4 \\chi_{yy}^{2} \\kappa + 4 \\chi_{yy} \\chi_{zz} \\kappa + 6 \\chi_{yz}^{2} \\kappa - 2 \\chi_{yz} \\chi_{zy} \\kappa + 2 \\chi_{yz} \\kappa m_{y} m_{z} - \\chi_{yz} m_{z} \\omega_{0} - 2 \\chi_{zy} \\kappa m_{y} m_{z} + \\chi_{zy} m_{z} \\omega_{0} - 4 \\kappa m_{x} \\tau_{xyy} - 4 \\kappa m_{y} \\tau_{yyy} + 4 \\kappa m_{y} \\tau_{yzz} + 4 \\kappa m_{z} \\tau_{yyz} + \\omega_{0} \\tau_{yyy} - 2 \\omega_{0} \\tau_{yzz}\n",
      "\n",
      "\\tau_{yzz}\n",
      "- 8 \\chi_{xy} \\chi_{xz} \\kappa - 8 \\chi_{yy} \\chi_{yz} \\kappa + 4 \\chi_{yz} \\chi_{zz} \\kappa - 8 \\kappa m_{x} \\tau_{xyz} - 8 \\kappa m_{y} \\tau_{yyz} + 2 \\kappa m_{y} \\tau_{zzz} + 2 \\kappa m_{z} \\tau_{yzz} + 2 \\omega_{0} \\tau_{yyz} - \\omega_{0} \\tau_{zzz}\n",
      "\n",
      "\\tau_{zxx}\n",
      "- 4 \\chi_{xx}^{2} \\kappa + 4 \\chi_{xx} \\chi_{zz} \\kappa - 4 \\chi_{xy}^{2} \\kappa + 8 \\chi_{xz}^{2} \\kappa - 4 \\chi_{xz} \\chi_{zx} \\kappa + 4 \\chi_{xz} \\kappa m_{x} m_{z} - 4 \\chi_{zx} \\kappa m_{x} m_{z} - 4 \\kappa m_{x} \\tau_{xxx} + 4 \\kappa m_{x} \\tau_{xzz} - 4 \\kappa m_{y} \\tau_{xxy} + 4 \\kappa m_{z} \\tau_{xxz} + \\omega_{0} \\tau_{xxy}\n",
      "\n",
      "\\tau_{zxy}\n",
      "- 4 \\chi_{xx} \\chi_{xy} \\kappa - 4 \\chi_{xy} \\chi_{yy} \\kappa + 4 \\chi_{xy} \\chi_{zz} \\kappa + 8 \\chi_{xz} \\chi_{yz} \\kappa - 2 \\chi_{xz} \\chi_{zy} \\kappa + 2 \\chi_{xz} \\kappa m_{y} m_{z} - \\chi_{xz} m_{z} \\omega_{0} - 2 \\chi_{yz} \\chi_{zx} \\kappa + 2 \\chi_{yz} \\kappa m_{x} m_{z} - 2 \\chi_{zx} \\kappa m_{y} m_{z} + \\chi_{zx} m_{z} \\omega_{0} - 2 \\chi_{zy} \\kappa m_{x} m_{z} - 4 \\kappa m_{x} \\tau_{xxy} + 2 \\kappa m_{x} \\tau_{yzz} - 4 \\kappa m_{y} \\tau_{xyy} + 2 \\kappa m_{y} \\tau_{xzz} + 4 \\kappa m_{z} \\tau_{xyz} + \\omega_{0} \\tau_{xyy} - \\omega_{0} \\tau_{xzz}\n",
      "\n",
      "\\tau_{zxz}\n",
      "- 10 \\chi_{xx} \\chi_{xz} \\kappa + 2 \\chi_{xx} \\chi_{zx} \\kappa - 8 \\chi_{xy} \\chi_{yz} \\kappa - 2 \\chi_{xz} \\chi_{yy} \\kappa + 4 \\chi_{xz} \\chi_{zz} \\kappa - 2 \\chi_{xz} \\kappa m_{x}^{2} - 2 \\chi_{xz} \\kappa m_{y}^{2} + \\chi_{xz} m_{y} \\omega_{0} + 2 \\chi_{yy} \\chi_{zx} \\kappa + 2 \\chi_{zx} \\kappa m_{x}^{2} + 2 \\chi_{zx} \\kappa m_{y}^{2} - \\chi_{zx} m_{y} \\omega_{0} - 8 \\kappa m_{x} \\tau_{xxz} + 2 \\kappa m_{x} \\tau_{zzz} - 8 \\kappa m_{y} \\tau_{xyz} + 2 \\kappa m_{z} \\tau_{xzz} + 2 \\omega_{0} \\tau_{xyz}\n",
      "\n",
      "\\tau_{zyx}\n",
      "- 6 \\chi_{xx} \\chi_{xy} \\kappa + 2 \\chi_{xx} \\chi_{yx} \\kappa - 6 \\chi_{xy} \\chi_{yy} \\kappa + 4 \\chi_{xy} \\chi_{zz} \\kappa - 2 \\chi_{xy} \\kappa m_{x}^{2} - 2 \\chi_{xy} \\kappa m_{y}^{2} + \\chi_{xy} m_{y} \\omega_{0} + 8 \\chi_{xz} \\chi_{yz} \\kappa - 2 \\chi_{xz} \\chi_{zy} \\kappa + 2 \\chi_{xz} \\kappa m_{y} m_{z} - \\chi_{xz} m_{z} \\omega_{0} + 2 \\chi_{yx} \\chi_{yy} \\kappa + 2 \\chi_{yx} \\kappa m_{x}^{2} + 2 \\chi_{yx} \\kappa m_{y}^{2} - \\chi_{yx} m_{y} \\omega_{0} - 2 \\chi_{yz} \\chi_{zx} \\kappa + 2 \\chi_{yz} \\kappa m_{x} m_{z} - 2 \\chi_{zx} \\kappa m_{y} m_{z} + \\chi_{zx} m_{z} \\omega_{0} - 2 \\chi_{zy} \\kappa m_{x} m_{z} - 4 \\kappa m_{x} \\tau_{xxy} + 2 \\kappa m_{x} \\tau_{yzz} - 4 \\kappa m_{y} \\tau_{xyy} + 2 \\kappa m_{y} \\tau_{xzz} + 4 \\kappa m_{z} \\tau_{xyz} + \\omega_{0} \\tau_{xyy} - \\omega_{0} \\tau_{xzz}\n",
      "\n",
      "\\tau_{zyy}\n",
      "- 4 \\chi_{xy}^{2} \\kappa - 4 \\chi_{yy}^{2} \\kappa + 4 \\chi_{yy} \\chi_{zz} \\kappa + 8 \\chi_{yz}^{2} \\kappa - 4 \\chi_{yz} \\chi_{zy} \\kappa + 4 \\chi_{yz} \\kappa m_{y} m_{z} - 2 \\chi_{yz} m_{z} \\omega_{0} - 4 \\chi_{zy} \\kappa m_{y} m_{z} + 2 \\chi_{zy} m_{z} \\omega_{0} - 4 \\kappa m_{x} \\tau_{xyy} - 4 \\kappa m_{y} \\tau_{yyy} + 4 \\kappa m_{y} \\tau_{yzz} + 4 \\kappa m_{z} \\tau_{yyz} + \\omega_{0} \\tau_{yyy} - 2 \\omega_{0} \\tau_{yzz}\n",
      "\n",
      "\\tau_{zyz}\n",
      "- 2 \\chi_{xx} \\chi_{yz} \\kappa + 2 \\chi_{xx} \\chi_{zy} \\kappa - 8 \\chi_{xy} \\chi_{xz} \\kappa - 10 \\chi_{yy} \\chi_{yz} \\kappa + 2 \\chi_{yy} \\chi_{zy} \\kappa + 4 \\chi_{yz} \\chi_{zz} \\kappa - 2 \\chi_{yz} \\kappa m_{x}^{2} - 2 \\chi_{yz} \\kappa m_{y}^{2} + \\chi_{yz} m_{y} \\omega_{0} + 2 \\chi_{zy} \\kappa m_{x}^{2} + 2 \\chi_{zy} \\kappa m_{y}^{2} - \\chi_{zy} m_{y} \\omega_{0} - 8 \\kappa m_{x} \\tau_{xyz} - 8 \\kappa m_{y} \\tau_{yyz} + 2 \\kappa m_{y} \\tau_{zzz} + 2 \\kappa m_{z} \\tau_{yzz} + 2 \\omega_{0} \\tau_{yyz} - \\omega_{0} \\tau_{zzz}\n",
      "\n",
      "\\tau_{zzx}\n",
      "- 12 \\chi_{xx} \\chi_{xz} \\kappa + 4 \\chi_{xx} \\chi_{zx} \\kappa - 8 \\chi_{xy} \\chi_{yz} \\kappa - 4 \\chi_{xz} \\chi_{yy} \\kappa + 4 \\chi_{xz} \\chi_{zz} \\kappa - 4 \\chi_{xz} \\kappa m_{x}^{2} - 4 \\chi_{xz} \\kappa m_{y}^{2} + 2 \\chi_{xz} m_{y} \\omega_{0} + 4 \\chi_{yy} \\chi_{zx} \\kappa + 4 \\chi_{zx} \\kappa m_{x}^{2} + 4 \\chi_{zx} \\kappa m_{y}^{2} - 2 \\chi_{zx} m_{y} \\omega_{0} - 8 \\kappa m_{x} \\tau_{xxz} + 2 \\kappa m_{x} \\tau_{zzz} - 8 \\kappa m_{y} \\tau_{xyz} + 2 \\kappa m_{z} \\tau_{xzz} + 2 \\omega_{0} \\tau_{xyz}\n",
      "\n",
      "\\tau_{zzy}\n",
      "- 4 \\chi_{xx} \\chi_{yz} \\kappa + 4 \\chi_{xx} \\chi_{zy} \\kappa - 8 \\chi_{xy} \\chi_{xz} \\kappa - 12 \\chi_{yy} \\chi_{yz} \\kappa + 4 \\chi_{yy} \\chi_{zy} \\kappa + 4 \\chi_{yz} \\chi_{zz} \\kappa - 4 \\chi_{yz} \\kappa m_{x}^{2} - 4 \\chi_{yz} \\kappa m_{y}^{2} + 2 \\chi_{yz} m_{y} \\omega_{0} + 4 \\chi_{zy} \\kappa m_{x}^{2} + 4 \\chi_{zy} \\kappa m_{y}^{2} - 2 \\chi_{zy} m_{y} \\omega_{0} - 8 \\kappa m_{x} \\tau_{xyz} - 8 \\kappa m_{y} \\tau_{yyz} + 2 \\kappa m_{y} \\tau_{zzz} + 2 \\kappa m_{z} \\tau_{yzz} + 2 \\omega_{0} \\tau_{yyz} - \\omega_{0} \\tau_{zzz}\n",
      "\n",
      "\\tau_{zzz}\n",
      "- 12 \\chi_{xz}^{2} \\kappa - 12 \\chi_{yz}^{2} \\kappa - 12 \\kappa m_{x} \\tau_{xzz} - 12 \\kappa m_{y} \\tau_{yzz} + 3 \\omega_{0} \\tau_{yzz}\n",
      "\n"
     ]
    }
   ],
   "source": [
    "for key in var_diff_list:\n",
    "    print(sym.latex(key))\n",
    "    print(sym.latex(var_diff_list[key]))\n",
    "    #display(key,var_diff_list[key])\n",
    "    print()"
   ]
  },
  {
   "cell_type": "markdown",
   "id": "cb5d3bcf",
   "metadata": {},
   "source": [
    "## Solving the Equations"
   ]
  },
  {
   "cell_type": "code",
   "execution_count": 19,
   "id": "4e18b1ec",
   "metadata": {},
   "outputs": [],
   "source": [
    "def eval_expr(diff_list):\n",
    "    delta = diff_list\n",
    "    f_list = list()\n",
    "    for key in delta.keys():\n",
    "        f = sym.lambdify([(w0,k,*var_key_list)], delta[key])\n",
    "        #f_list.append(f(args))\n",
    "        f_list.append(f)\n",
    "    return f_list"
   ]
  },
  {
   "cell_type": "code",
   "execution_count": 20,
   "id": "023d332e",
   "metadata": {},
   "outputs": [],
   "source": [
    "f_list = eval_expr(var_diff_list)"
   ]
  },
  {
   "cell_type": "code",
   "execution_count": 21,
   "id": "fbe759a3",
   "metadata": {},
   "outputs": [],
   "source": [
    "def solve(t, initial_conditions, k, w0):\n",
    "    #m_y, m_z, n_yy, n_yz, n_zz  = initial_conditions\n",
    "    val_list = list()\n",
    "    print(f'time: {np.round(t,5)}s', end = '\\r')\n",
    "    args = (w0,k,*initial_conditions)\n",
    "    for f in f_list:\n",
    "        val_list.append(f(args))\n",
    "    return val_list"
   ]
  },
  {
   "cell_type": "code",
   "execution_count": 22,
   "id": "c0396672",
   "metadata": {},
   "outputs": [
    {
     "name": "stdout",
     "output_type": "stream",
     "text": [
      "time: 15.0s95s\r"
     ]
    },
    {
     "data": {
      "image/png": "[encoded data removed]",
      "text/plain": [
       "<Figure size 432x288 with 1 Axes>"
      ]
     },
     "metadata": {
      "needs_background": "light"
     },
     "output_type": "display_data"
    }
   ],
   "source": [
    "init_cond = [0,0,1,0,0,0,0,0,0,0,0,0,0,0,0,0,0,0,0,0,0,0,0,0,0,0,0,0,0,0,0,0,0,0,0,0,0,0,0]\n",
    "sol = solve_ivp(solve, [0, 15], init_cond, args=(0.2, 1), dense_output=True, method='BDF', max_step=0.001)\n",
    "t = np.linspace(0, 15, 2000)\n",
    "z = sol.sol(t)\n",
    "y = z.T[:,11]\n",
    "#y = z.T[:,2]\n",
    "plt.plot(t, y)\n",
    "plt.xlabel('t')\n",
    "#plt.legend(['x', 'y'], shadow=True)\n",
    "plt.title('Var of S_z normalised')\n",
    "plt.show()"
   ]
  },
  {
   "cell_type": "code",
   "execution_count": 23,
   "id": "7c58fd81",
   "metadata": {},
   "outputs": [
    {
     "data": {
      "image/png": "[encoded data removed]",
      "text/plain": [
       "<Figure size 432x288 with 1 Axes>"
      ]
     },
     "metadata": {
      "needs_background": "light"
     },
     "output_type": "display_data"
    }
   ],
   "source": [
    "y = z.T[:,2]\n",
    "#y = z.T[:,2]\n",
    "plt.plot(t, y)\n",
    "plt.xlabel('t')\n",
    "#plt.legend(['x', 'y'], shadow=True)\n",
    "plt.title('Var of S_z normalised')\n",
    "plt.show()"
   ]
  },
  {
   "cell_type": "code",
   "execution_count": 24,
   "id": "cc464939",
   "metadata": {},
   "outputs": [
    {
     "data": {
      "image/png": "[encoded data removed]",
      "text/plain": [
       "<Figure size 800x800 with 1 Axes>"
      ]
     },
     "metadata": {
      "needs_background": "light"
     },
     "output_type": "display_data"
    }
   ],
   "source": [
    "data = np.concatenate([t.reshape(1,len(t)),z])\n",
    "plot_data(t, y, r'$t$', r'$\\frac{\\Delta S_z}{S^2}$', r'Variance of $S_z$ Normalised', data, savedir = 'Third_order_inf_N')"
   ]
  }
 ],
 "metadata": {
  "kernelspec": {
   "display_name": "Python 3 (ipykernel)",
   "language": "python",
   "name": "python3"
  },
  "language_info": {
   "codemirror_mode": {
    "name": "ipython",
    "version": 3
   },
   "file_extension": ".py",
   "mimetype": "text/x-python",
   "name": "python",
   "nbconvert_exporter": "python",
   "pygments_lexer": "ipython3",
   "version": "3.10.6"
  },
  "toc": {
   "base_numbering": 1,
   "nav_menu": {},
   "number_sections": true,
   "sideBar": true,
   "skip_h1_title": true,
   "title_cell": "Table of Contents",
   "title_sidebar": "Contents",
   "toc_cell": false,
   "toc_position": {
    "height": "calc(100% - 180px)",
    "left": "10px",
    "top": "150px",
    "width": "165px"
   },
   "toc_section_display": true,
   "toc_window_display": true
  }
 },
 "nbformat": 4,
 "nbformat_minor": 5
}
