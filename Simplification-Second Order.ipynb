{
 "cells": [
  {
   "cell_type": "markdown",
   "id": "7b90700d",
   "metadata": {},
   "source": [
    "# Second Order Approximation for N $\\to\\infty$"
   ]
  },
  {
   "cell_type": "markdown",
   "id": "cdad64b6",
   "metadata": {},
   "source": [
    "## Set Up"
   ]
  },
  {
   "cell_type": "markdown",
   "id": "01b54a0f",
   "metadata": {},
   "source": [
    "### Importing Packages"
   ]
  },
  {
   "cell_type": "code",
   "execution_count": 2,
   "id": "43017f83",
   "metadata": {},
   "outputs": [],
   "source": [
    "import numpy as np\n",
    "\n",
    "import sympy as sym\n",
    "from sympy.physics.paulialgebra import Pauli, evaluate_pauli_product\n",
    "from sympy import I\n",
    "\n",
    "import scipy as sc\n",
    "import scipy.constants as scc\n",
    "from scipy.integrate import solve_ivp\n",
    "\n",
    "import matplotlib\n",
    "import matplotlib.pyplot as plt\n",
    "\n",
    "import csv\n",
    "import json\n",
    "\n",
    "from datetime import datetime\n",
    "import os\n",
    "\n",
    "from copy import *\n",
    "import pickle\n",
    "\n",
    "from qutip import *\n",
    "\n",
    "from collections.abc import Iterable"
   ]
  },
  {
   "cell_type": "markdown",
   "id": "ef4b2fbe",
   "metadata": {},
   "source": [
    "### Plotting Function"
   ]
  },
  {
   "cell_type": "markdown",
   "id": "7654a4bf",
   "metadata": {},
   "source": [
    "### Defining the Symbols"
   ]
  },
  {
   "cell_type": "code",
   "execution_count": 3,
   "id": "d291174c",
   "metadata": {},
   "outputs": [],
   "source": [
    "w0, k, S = sym.symbols('omega_0 kappa S', real=True)\n",
    "Sx, Sy, Sz, Sp, Sm = sym.symbols('S_x S_y S_z S_p S_m', commutative=False)\n",
    "\n",
    "Sp = Sx + sym.I*Sy\n",
    "Sm = Sx - sym.I*Sy"
   ]
  },
  {
   "cell_type": "code",
   "execution_count": 36,
   "id": "c6a6af5c",
   "metadata": {},
   "outputs": [],
   "source": [
    "m_x, m_y, m_z = sym.symbols('m_x, m_y, m_z', real = True)\n",
    "\n",
    "n_xx, n_xy, n_xz, n_yx, n_yy, n_yz, n_zx, n_zy, n_zz = sym.symbols('n_xx n_xy n_xz n_yx n_yy n_yz n_zx n_zy n_zz', real = True)\n",
    "\n",
    "l_xxx, l_xxy, l_xxz, l_xyx, l_xyy, l_xyz, l_xzx, l_xzy, l_xzz = sym.symbols('l_xxx l_xxy l_xxz l_xyx l_xyy l_xyz l_xzx l_xzy l_xzz', real = True)\n",
    "l_yxx, l_yxy, l_yxz, l_yyx, l_yyy, l_yyz, l_yzx, l_yzy, l_yzz = sym.symbols('l_yxx l_yxy l_yxz l_yyx l_yyy l_yyz l_yzx l_yzy l_yzz', real = True)\n",
    "l_zxx, l_zxy, l_zxz, l_zyx, l_zyy, l_zyz, l_zzx, l_zzy, l_zzz = sym.symbols('l_zxx l_zxy l_zxz l_zyx l_zyy l_zyz l_zzx l_zzy l_zzz', real = True)\n",
    "\n",
    "ch_xx, ch_xy, ch_xz, ch_yy, ch_yz, ch_zz = sym.symbols('chi_xx chi_xy chi_xz chi_yy chi_yz chi_zz')\n",
    "zeta_xx, zeta_xy, zeta_xz, zeta_yy, zeta_yz, zeta_zz = sym.symbols('zeta_xx zeta_xy zeta_xz zeta_yy zeta_yz zeta_zz')"
   ]
  },
  {
   "cell_type": "markdown",
   "id": "cae8ca36",
   "metadata": {},
   "source": [
    "### Defining the Commutators"
   ]
  },
  {
   "cell_type": "code",
   "execution_count": 5,
   "id": "441ae650",
   "metadata": {},
   "outputs": [],
   "source": [
    "def comm(A,B):\n",
    "    if not isinstance(A, Iterable) and not isinstance(B, Iterable):\n",
    "        if A == B:\n",
    "            return 0\n",
    "        elif A == Sx and B == Sy:\n",
    "            return I*Sz\n",
    "        elif A == Sx and B == Sz:\n",
    "            return -I*Sy\n",
    "        elif A == Sy and B == Sx:\n",
    "            return -I*Sz\n",
    "        elif A == Sy and B == Sz:\n",
    "            return I*Sx\n",
    "        elif A == Sz and B == Sx:\n",
    "            return I*Sy\n",
    "        elif A == Sz and B == Sy:\n",
    "            return -I*Sx\n",
    "        elif A == Sp and B == Sm:\n",
    "            return 2*Sz\n",
    "        elif A == Sm and B == Sp:\n",
    "            return -2*Sz\n",
    "        elif A == Sp:\n",
    "            return comm(Sx,B)+I*comm(Sy,B)\n",
    "        elif A == Sm:\n",
    "            return comm(Sx,B)-I*comm(Sy,B)\n",
    "        elif B == Sp:\n",
    "            return comm(A,Sx)+I*comm(A,Sy)\n",
    "        elif B == Sm:\n",
    "            return comm(A,Sx)-I*comm(A,Sy)\n",
    "        else:\n",
    "            print('Error')\n",
    "            return A*B - B*A\n",
    "    elif isinstance(A, Iterable) and not isinstance(B, Iterable):\n",
    "        if B == Sp:\n",
    "            return A[0]*comm(A[1],Sx) + I*A[0]*comm(A[1],Sy) + comm(A[0],Sx)*A[1] + I*comm(A[0],Sy)*A[1]\n",
    "        elif B == Sm:\n",
    "            return A[0]*comm(A[1],Sx) - I*A[0]*comm(A[1],Sy) + comm(A[0],Sx)*A[1] - I*comm(A[0],Sy)*A[1]\n",
    "        else:\n",
    "            return A[0]*comm(A[1],B) + comm(A[0],B)*A[1]\n",
    "    elif not isinstance(A, Iterable) and isinstance(B, Iterable):\n",
    "        if A == Sp:\n",
    "            return B[0]*comm(Sx,B[1]) + I*B[0]*comm(Sy,B[1]) + comm(Sx,B[0])*B[1] + I*comm(Sy,B[0])*B[1]\n",
    "        elif A == Sm:\n",
    "            return B[0]*comm(Sx,B[1]) - I*B[0]*comm(Sy,B[1]) + comm(Sx,B[0])*B[1] - I*comm(Sy,B[0])*B[1]\n",
    "        else:\n",
    "            return B[0]*comm(A,B[1]) + comm(A,B[0])*B[1]\n",
    "    else:\n",
    "        print('Error')\n",
    "        return 0"
   ]
  },
  {
   "cell_type": "markdown",
   "id": "f0acda5c",
   "metadata": {},
   "source": [
    "### Simplification Substitutions"
   ]
  },
  {
   "cell_type": "code",
   "execution_count": 6,
   "id": "428ca7fa",
   "metadata": {},
   "outputs": [],
   "source": [
    "subs_list = {Sx/S: m_x,\n",
    "             Sy/S: m_y,\n",
    "             Sz/S: m_z,\n",
    "             Sx*Sx/(S**2): n_xx,\n",
    "             Sx*Sy/(S**2): n_xy,\n",
    "             Sx*Sz/(S**2): n_xz,\n",
    "             Sy*Sx/(S**2): n_yx,\n",
    "             Sy*Sy/(S**2): n_yy,\n",
    "             Sy*Sz/(S**2): n_yz,\n",
    "             Sz*Sx/(S**2): n_zx,\n",
    "             Sz*Sy/(S**2): n_zy,\n",
    "             Sz*Sz/(S**2): n_zz,\n",
    "             Sx*Sx*Sx/(S**3): l_xxx,\n",
    "             Sx*Sx*Sy/(S**3): l_xxy,\n",
    "             Sx*Sx*Sz/(S**3): l_xxz,\n",
    "             Sx*Sy*Sx/(S**3): l_xyx,\n",
    "             Sx*Sy*Sy/(S**3): l_xyy,\n",
    "             Sx*Sy*Sz/(S**3): l_xyz,\n",
    "             Sx*Sz*Sx/(S**3): l_xzx,\n",
    "             Sx*Sz*Sy/(S**3): l_xzy,\n",
    "             Sx*Sz*Sz/(S**3): l_xzz,\n",
    "             Sy*Sx*Sx/(S**3): l_yxx,\n",
    "             Sy*Sx*Sy/(S**3): l_yxy,\n",
    "             Sy*Sx*Sz/(S**3): l_yxz,\n",
    "             Sy*Sy*Sx/(S**3): l_yyx,\n",
    "             Sy*Sy*Sy/(S**3): l_yyy,\n",
    "             Sy*Sy*Sz/(S**3): l_yyz,\n",
    "             Sy*Sz*Sx/(S**3): l_yzx,\n",
    "             Sy*Sz*Sy/(S**3): l_yzy,\n",
    "             Sy*Sz*Sz/(S**3): l_yzz,\n",
    "             Sz*Sx*Sx/(S**3): l_zxx,\n",
    "             Sz*Sx*Sy/(S**3): l_zxy,\n",
    "             Sz*Sx*Sz/(S**3): l_zxz,\n",
    "             Sz*Sy*Sx/(S**3): l_zyx,\n",
    "             Sz*Sy*Sy/(S**3): l_zyy,\n",
    "             Sz*Sy*Sz/(S**3): l_zyz,\n",
    "             Sz*Sz*Sx/(S**3): l_zzx,\n",
    "             Sz*Sz*Sy/(S**3): l_zzy,\n",
    "             Sz*Sz*Sz/(S**3): l_zzz\n",
    "}"
   ]
  },
  {
   "cell_type": "code",
   "execution_count": 7,
   "id": "53aa01fe",
   "metadata": {},
   "outputs": [],
   "source": [
    "l_subs_list={\n",
    "    l_xxx: m_x*n_xx + m_x*n_xx + m_x*n_xx - 2*m_x*m_x*m_x,\n",
    "    l_xxy: m_x*n_xy + m_x*n_xy + m_y*n_xx - 2*m_x*m_x*m_y,\n",
    "    l_xxz: m_x*n_xz + m_x*n_xz + m_z*n_xx - 2*m_x*m_x*m_z,\n",
    "    l_xyx: m_x*n_yx + m_y*n_xx + m_x*n_xy - 2*m_x*m_y*m_x,\n",
    "    l_xyy: m_x*n_yy + m_y*n_xy + m_y*n_xy - 2*m_x*m_y*m_y,\n",
    "    l_xyz: m_x*n_yz + m_y*n_xz + m_z*n_xy - 2*m_x*m_y*m_z,\n",
    "    l_xzx: m_x*n_zx + m_z*n_xx + m_x*n_xz - 2*m_x*m_z*m_x,\n",
    "    l_xzy: m_x*n_zy + m_z*n_xy + m_y*n_xz - 2*m_x*m_z*m_y,\n",
    "    l_xzz: m_x*n_zz + m_z*n_xz + m_z*n_xz - 2*m_x*m_z*m_z,\n",
    "    l_yxx: m_y*n_xx + m_x*n_yx + m_x*n_yx - 2*m_y*m_x*m_x,\n",
    "    l_yxy: m_y*n_xy + m_x*n_yy + m_y*n_yx - 2*m_y*m_x*m_y,\n",
    "    l_yxz: m_y*n_xz + m_x*n_yz + m_z*n_yx - 2*m_y*m_x*m_z,\n",
    "    l_yyx: m_y*n_yx + m_y*n_yx + m_x*n_yy - 2*m_y*m_y*m_x,\n",
    "    l_yyy: m_y*n_yy + m_y*n_yy + m_y*n_yy - 2*m_y*m_y*m_y,\n",
    "    l_yyz: m_y*n_yz + m_y*n_yz + m_z*n_yy - 2*m_y*m_y*m_z,\n",
    "    l_yzx: m_y*n_zx + m_z*n_yx + m_x*n_yz - 2*m_y*m_z*m_x,\n",
    "    l_yzy: m_y*n_zy + m_z*n_yy + m_y*n_yz - 2*m_y*m_z*m_y,\n",
    "    l_yzz: m_y*n_zz + m_z*n_yz + m_z*n_yz - 2*m_y*m_z*m_z,\n",
    "    l_zxx: m_z*n_xx + m_x*n_zx + m_x*n_zx - 2*m_z*m_x*m_x,\n",
    "    l_zxy: m_z*n_xy + m_x*n_zy + m_y*n_zx - 2*m_z*m_x*m_y,\n",
    "    l_zxz: m_z*n_xz + m_x*n_zz + m_z*n_zx - 2*m_z*m_x*m_z,\n",
    "    l_zyx: m_z*n_yx + m_y*n_zx + m_x*n_zy - 2*m_z*m_y*m_x,\n",
    "    l_zyy: m_z*n_yy + m_y*n_zy + m_y*n_zy - 2*m_z*m_y*m_y,\n",
    "    l_zyz: m_z*n_yz + m_y*n_zz + m_z*n_zy - 2*m_z*m_y*m_z,\n",
    "    l_zzx: m_z*n_zx + m_z*n_zx + m_x*n_zz - 2*m_z*m_z*m_x,\n",
    "    l_zzy: m_z*n_zy + m_z*n_zy + m_y*n_zz - 2*m_z*m_z*m_y,\n",
    "    l_zzz: m_z*n_zz + m_z*n_zz + m_z*n_zz - 2*m_z*m_z*m_z,\n",
    "}"
   ]
  },
  {
   "cell_type": "code",
   "execution_count": 8,
   "id": "8b1109b4",
   "metadata": {},
   "outputs": [],
   "source": [
    "comm_subs_list = {\n",
    "    n_yx: n_xy,\n",
    "    n_zy: n_yz,\n",
    "    n_zx: n_xz\n",
    "}"
   ]
  },
  {
   "cell_type": "code",
   "execution_count": 9,
   "id": "7d8be336",
   "metadata": {},
   "outputs": [],
   "source": [
    "variance_sub_list = {\n",
    "    n_xx: ch_xx + m_x**2,\n",
    "    n_xy: ch_xy + m_x*m_y,\n",
    "    n_xz: ch_xz + m_x*m_z,\n",
    "    n_yy: ch_yy + m_y**2,\n",
    "    n_yz: ch_yz + m_y*m_z,\n",
    "    n_zz: ch_zz + m_z**2\n",
    "}"
   ]
  },
  {
   "cell_type": "code",
   "execution_count": 42,
   "id": "89a30971",
   "metadata": {},
   "outputs": [],
   "source": [
    "zeta_subs_list = {\n",
    "    ch_xx: zeta_xx+m_x**2,\n",
    "    ch_xy: zeta_xy+m_x*m_y,\n",
    "    ch_xz: zeta_xz+m_x*m_z,\n",
    "    ch_yy: zeta_yy+m_y**2,\n",
    "    ch_yz: zeta_yz+m_y*m_z,\n",
    "    ch_zz: zeta_zz+m_z**2\n",
    "}"
   ]
  },
  {
   "cell_type": "markdown",
   "id": "5f11abe7",
   "metadata": {},
   "source": [
    "## Framing the Equations"
   ]
  },
  {
   "cell_type": "code",
   "execution_count": 10,
   "id": "85713dc3",
   "metadata": {
    "scrolled": true
   },
   "outputs": [],
   "source": [
    "def diff(O):\n",
    "    H = Sx\n",
    "    return sym.I*w0*comm(H,O) + (k/(2*S))*(comm(Sp,O)*Sm + Sp*comm(O,Sm))"
   ]
  },
  {
   "cell_type": "code",
   "execution_count": 11,
   "id": "3ab4472e",
   "metadata": {},
   "outputs": [],
   "source": [
    "op_list = [Sx, Sy, Sz, (Sx,Sx), (Sx,Sy), (Sx,Sz), (Sy,Sx), (Sy,Sy), (Sy,Sz), (Sz,Sx), (Sz,Sy), (Sz,Sz)]\n",
    "diff_list = list()\n",
    "for O in op_list:\n",
    "    N = len(O) if isinstance(O, Iterable) else 1\n",
    "    exp = sym.expand(diff(O)/(S**N))\n",
    "    exp1 = exp.subs(subs_list)\n",
    "    exp2 = sym.simplify(exp1.subs(l_subs_list))\n",
    "    exp3 = sym.simplify(exp2.subs(comm_subs_list))\n",
    "#     diff_list.append(sym.re(exp3))\n",
    "    diff_list.append(exp3)"
   ]
  },
  {
   "cell_type": "code",
   "execution_count": 12,
   "id": "73197080",
   "metadata": {},
   "outputs": [],
   "source": [
    "# for i,_ in enumerate(diff_list):\n",
    "#     diff_list[i] = diff_list[i].subs({m_x:0, n_xx:0, n_xy:0, n_xz:0})"
   ]
  },
  {
   "cell_type": "code",
   "execution_count": 26,
   "id": "7d4f720e",
   "metadata": {},
   "outputs": [],
   "source": [
    "delta = dict()\n",
    "delta['m_x'] = diff_list[0]\n",
    "delta['m_y'] = diff_list[1]\n",
    "delta['m_z'] = diff_list[2]\n",
    "delta['n_xx'] = diff_list[3]\n",
    "delta['n_xy'] = diff_list[4]\n",
    "delta['n_xz'] = diff_list[5]\n",
    "delta['n_yy'] = diff_list[7]\n",
    "delta['n_yz'] = diff_list[8]\n",
    "delta['n_zz'] = diff_list[11]\n",
    "\n",
    "for key, values in delta.items():\n",
    "    delta[key] = sym.simplify(sym.expand(delta[key].subs(variance_sub_list)))\n",
    "    \n",
    "\n",
    "delta['chi_xx'] = delta['n_xx'] - 2*m_x*delta['m_x']\n",
    "delta['chi_xy'] = delta['n_xy'] - (m_x*delta['m_y'] + m_y*delta['m_x'])\n",
    "delta['chi_xz'] = delta['n_xz'] - (m_x*delta['m_z'] + m_z*delta['m_x'])\n",
    "delta['chi_yy'] = delta['n_yy'] - 2*m_y*delta['m_y']\n",
    "delta['chi_yz'] = delta['n_yz'] - (m_y*delta['m_z'] + m_z*delta['m_y'])\n",
    "delta['chi_zz'] = delta['n_zz'] - 2*m_z*delta['m_z']\n",
    "\n",
    "delta.pop('n_xx')\n",
    "delta.pop('n_xy')\n",
    "delta.pop('n_xz')\n",
    "delta.pop('n_yy')\n",
    "delta.pop('n_yz')\n",
    "delta.pop('n_zz')\n",
    "\n",
    "\n",
    "for key, values in delta.items():\n",
    "    delta[key] = sym.expand(sym.simplify(delta[key]))\n",
    "#     delta[key] = sym.ordered(delta[key])"
   ]
  },
  {
   "cell_type": "code",
   "execution_count": 27,
   "id": "7875684e",
   "metadata": {},
   "outputs": [
    {
     "data": {
      "text/latex": [
       "$\\displaystyle \\chi_{xz} \\kappa + \\kappa m_{x} m_{z}$"
      ],
      "text/plain": [
       "chi_xz*kappa + kappa*m_x*m_z"
      ]
     },
     "execution_count": 27,
     "metadata": {},
     "output_type": "execute_result"
    }
   ],
   "source": [
    "delta['m_x']"
   ]
  },
  {
   "cell_type": "code",
   "execution_count": 28,
   "id": "51a771f2",
   "metadata": {},
   "outputs": [
    {
     "data": {
      "text/plain": [
       "<generator object ordered at 0x7f49d1605b60>"
      ]
     },
     "execution_count": 28,
     "metadata": {},
     "output_type": "execute_result"
    }
   ],
   "source": [
    "sym.ordered(delta['m_x'])"
   ]
  },
  {
   "cell_type": "code",
   "execution_count": 43,
   "id": "191692ff",
   "metadata": {},
   "outputs": [
    {
     "data": {
      "text/plain": [
       "'m_x'"
      ]
     },
     "metadata": {},
     "output_type": "display_data"
    },
    {
     "data": {
      "text/latex": [
       "$\\displaystyle \\chi_{xz} \\kappa + \\kappa m_{x} m_{z}$"
      ],
      "text/plain": [
       "chi_xz*kappa + kappa*m_x*m_z"
      ]
     },
     "metadata": {},
     "output_type": "display_data"
    },
    {
     "data": {
      "text/plain": [
       "'m_y'"
      ]
     },
     "metadata": {},
     "output_type": "display_data"
    },
    {
     "data": {
      "text/latex": [
       "$\\displaystyle \\chi_{yz} \\kappa + \\kappa m_{y} m_{z} - m_{z} \\omega_{0}$"
      ],
      "text/plain": [
       "chi_yz*kappa + kappa*m_y*m_z - m_z*omega_0"
      ]
     },
     "metadata": {},
     "output_type": "display_data"
    },
    {
     "data": {
      "text/plain": [
       "'m_z'"
      ]
     },
     "metadata": {},
     "output_type": "display_data"
    },
    {
     "data": {
      "text/latex": [
       "$\\displaystyle - \\chi_{xx} \\kappa - \\chi_{yy} \\kappa - \\kappa m_{x}^{2} - \\kappa m_{y}^{2} + m_{y} \\omega_{0}$"
      ],
      "text/plain": [
       "-chi_xx*kappa - chi_yy*kappa - kappa*m_x**2 - kappa*m_y**2 + m_y*omega_0"
      ]
     },
     "metadata": {},
     "output_type": "display_data"
    },
    {
     "data": {
      "text/plain": [
       "'chi_xx'"
      ]
     },
     "metadata": {},
     "output_type": "display_data"
    },
    {
     "data": {
      "text/latex": [
       "$\\displaystyle 2 \\chi_{xx} \\kappa m_{z} + 2 \\chi_{xz} \\kappa m_{x}$"
      ],
      "text/plain": [
       "2*chi_xx*kappa*m_z + 2*chi_xz*kappa*m_x"
      ]
     },
     "metadata": {},
     "output_type": "display_data"
    },
    {
     "data": {
      "text/plain": [
       "'chi_xy'"
      ]
     },
     "metadata": {},
     "output_type": "display_data"
    },
    {
     "data": {
      "text/latex": [
       "$\\displaystyle 2 \\chi_{xy} \\kappa m_{z} + \\chi_{xz} \\kappa m_{y} - \\chi_{xz} \\omega_{0} + \\chi_{yz} \\kappa m_{x}$"
      ],
      "text/plain": [
       "2*chi_xy*kappa*m_z + chi_xz*kappa*m_y - chi_xz*omega_0 + chi_yz*kappa*m_x"
      ]
     },
     "metadata": {},
     "output_type": "display_data"
    },
    {
     "data": {
      "text/plain": [
       "'chi_xz'"
      ]
     },
     "metadata": {},
     "output_type": "display_data"
    },
    {
     "data": {
      "text/latex": [
       "$\\displaystyle - 2 \\chi_{xx} \\kappa m_{x} - 2 \\chi_{xy} \\kappa m_{y} + \\chi_{xy} \\omega_{0} + \\chi_{xz} \\kappa m_{z} + \\chi_{zz} \\kappa m_{x}$"
      ],
      "text/plain": [
       "-2*chi_xx*kappa*m_x - 2*chi_xy*kappa*m_y + chi_xy*omega_0 + chi_xz*kappa*m_z + chi_zz*kappa*m_x"
      ]
     },
     "metadata": {},
     "output_type": "display_data"
    },
    {
     "data": {
      "text/plain": [
       "'chi_yy'"
      ]
     },
     "metadata": {},
     "output_type": "display_data"
    },
    {
     "data": {
      "text/latex": [
       "$\\displaystyle 2 \\chi_{yy} \\kappa m_{z} + 2 \\chi_{yz} \\kappa m_{y} - 2 \\chi_{yz} \\omega_{0}$"
      ],
      "text/plain": [
       "2*chi_yy*kappa*m_z + 2*chi_yz*kappa*m_y - 2*chi_yz*omega_0"
      ]
     },
     "metadata": {},
     "output_type": "display_data"
    },
    {
     "data": {
      "text/plain": [
       "'chi_yz'"
      ]
     },
     "metadata": {},
     "output_type": "display_data"
    },
    {
     "data": {
      "text/latex": [
       "$\\displaystyle - 2 \\chi_{xy} \\kappa m_{x} - 2 \\chi_{yy} \\kappa m_{y} + \\chi_{yy} \\omega_{0} + \\chi_{yz} \\kappa m_{z} + \\chi_{zz} \\kappa m_{y} - \\chi_{zz} \\omega_{0}$"
      ],
      "text/plain": [
       "-2*chi_xy*kappa*m_x - 2*chi_yy*kappa*m_y + chi_yy*omega_0 + chi_yz*kappa*m_z + chi_zz*kappa*m_y - chi_zz*omega_0"
      ]
     },
     "metadata": {},
     "output_type": "display_data"
    },
    {
     "data": {
      "text/plain": [
       "'chi_zz'"
      ]
     },
     "metadata": {},
     "output_type": "display_data"
    },
    {
     "data": {
      "text/latex": [
       "$\\displaystyle - 4 \\chi_{xz} \\kappa m_{x} - 4 \\chi_{yz} \\kappa m_{y} + 2 \\chi_{yz} \\omega_{0}$"
      ],
      "text/plain": [
       "-4*chi_xz*kappa*m_x - 4*chi_yz*kappa*m_y + 2*chi_yz*omega_0"
      ]
     },
     "metadata": {},
     "output_type": "display_data"
    }
   ],
   "source": [
    "for key in delta:\n",
    "    #sym.print_latex(delta[key])\n",
    "    #display(delta[key])\n",
    "    display(key, delta[key])"
   ]
  },
  {
   "cell_type": "markdown",
   "id": "5d2da2f0",
   "metadata": {},
   "source": [
    "### Derivatives of Second Orders of Mean Fields"
   ]
  },
  {
   "cell_type": "code",
   "execution_count": 44,
   "id": "92b405e7",
   "metadata": {},
   "outputs": [],
   "source": [
    "delta2 = dict()\n",
    "delta2['m_xx'] = 2*m_x*delta['m_x']\n",
    "delta2['m_xy'] = (m_x*delta['m_y'] + m_y*delta['m_x'])\n",
    "delta2['m_xz'] = (m_x*delta['m_z'] + m_z*delta['m_x'])\n",
    "delta2['m_yy'] = 2*m_y*delta['m_y']\n",
    "delta2['m_yz'] = (m_y*delta['m_z'] + m_z*delta['m_y'])\n",
    "delta2['m_zz'] = 2*m_z*delta['m_z']\n",
    "\n",
    "for key, values in delta2.items():\n",
    "    delta2[key] = sym.expand(sym.simplify(delta2[key]))\n"
   ]
  },
  {
   "cell_type": "code",
   "execution_count": 45,
   "id": "1990ebe2",
   "metadata": {},
   "outputs": [
    {
     "data": {
      "text/plain": [
       "'m_xx'"
      ]
     },
     "metadata": {},
     "output_type": "display_data"
    },
    {
     "data": {
      "text/latex": [
       "$\\displaystyle 2 \\chi_{xz} \\kappa m_{x} + 2 \\kappa m_{x}^{2} m_{z}$"
      ],
      "text/plain": [
       "2*chi_xz*kappa*m_x + 2*kappa*m_x**2*m_z"
      ]
     },
     "metadata": {},
     "output_type": "display_data"
    },
    {
     "data": {
      "text/plain": [
       "'m_xy'"
      ]
     },
     "metadata": {},
     "output_type": "display_data"
    },
    {
     "data": {
      "text/latex": [
       "$\\displaystyle \\chi_{xz} \\kappa m_{y} + \\chi_{yz} \\kappa m_{x} + 2 \\kappa m_{x} m_{y} m_{z} - m_{x} m_{z} \\omega_{0}$"
      ],
      "text/plain": [
       "chi_xz*kappa*m_y + chi_yz*kappa*m_x + 2*kappa*m_x*m_y*m_z - m_x*m_z*omega_0"
      ]
     },
     "metadata": {},
     "output_type": "display_data"
    },
    {
     "data": {
      "text/plain": [
       "'m_xz'"
      ]
     },
     "metadata": {},
     "output_type": "display_data"
    },
    {
     "data": {
      "text/latex": [
       "$\\displaystyle - \\chi_{xx} \\kappa m_{x} + \\chi_{xz} \\kappa m_{z} - \\chi_{yy} \\kappa m_{x} - \\kappa m_{x}^{3} - \\kappa m_{x} m_{y}^{2} + \\kappa m_{x} m_{z}^{2} + m_{x} m_{y} \\omega_{0}$"
      ],
      "text/plain": [
       "-chi_xx*kappa*m_x + chi_xz*kappa*m_z - chi_yy*kappa*m_x - kappa*m_x**3 - kappa*m_x*m_y**2 + kappa*m_x*m_z**2 + m_x*m_y*omega_0"
      ]
     },
     "metadata": {},
     "output_type": "display_data"
    },
    {
     "data": {
      "text/plain": [
       "'m_yy'"
      ]
     },
     "metadata": {},
     "output_type": "display_data"
    },
    {
     "data": {
      "text/latex": [
       "$\\displaystyle 2 \\chi_{yz} \\kappa m_{y} + 2 \\kappa m_{y}^{2} m_{z} - 2 m_{y} m_{z} \\omega_{0}$"
      ],
      "text/plain": [
       "2*chi_yz*kappa*m_y + 2*kappa*m_y**2*m_z - 2*m_y*m_z*omega_0"
      ]
     },
     "metadata": {},
     "output_type": "display_data"
    },
    {
     "data": {
      "text/plain": [
       "'m_yz'"
      ]
     },
     "metadata": {},
     "output_type": "display_data"
    },
    {
     "data": {
      "text/latex": [
       "$\\displaystyle - \\chi_{xx} \\kappa m_{y} - \\chi_{yy} \\kappa m_{y} + \\chi_{yz} \\kappa m_{z} - \\kappa m_{x}^{2} m_{y} - \\kappa m_{y}^{3} + \\kappa m_{y} m_{z}^{2} + m_{y}^{2} \\omega_{0} - m_{z}^{2} \\omega_{0}$"
      ],
      "text/plain": [
       "-chi_xx*kappa*m_y - chi_yy*kappa*m_y + chi_yz*kappa*m_z - kappa*m_x**2*m_y - kappa*m_y**3 + kappa*m_y*m_z**2 + m_y**2*omega_0 - m_z**2*omega_0"
      ]
     },
     "metadata": {},
     "output_type": "display_data"
    },
    {
     "data": {
      "text/plain": [
       "'m_zz'"
      ]
     },
     "metadata": {},
     "output_type": "display_data"
    },
    {
     "data": {
      "text/latex": [
       "$\\displaystyle - 2 \\chi_{xx} \\kappa m_{z} - 2 \\chi_{yy} \\kappa m_{z} - 2 \\kappa m_{x}^{2} m_{z} - 2 \\kappa m_{y}^{2} m_{z} + 2 m_{y} m_{z} \\omega_{0}$"
      ],
      "text/plain": [
       "-2*chi_xx*kappa*m_z - 2*chi_yy*kappa*m_z - 2*kappa*m_x**2*m_z - 2*kappa*m_y**2*m_z + 2*m_y*m_z*omega_0"
      ]
     },
     "metadata": {},
     "output_type": "display_data"
    }
   ],
   "source": [
    "for key in delta2:\n",
    "    #sym.print_latex(delta[key])\n",
    "    #display(delta[key])\n",
    "    display(key, delta2[key])"
   ]
  },
  {
   "cell_type": "markdown",
   "id": "2b4a0b31",
   "metadata": {},
   "source": [
    "### Zeta substitution"
   ]
  },
  {
   "cell_type": "code",
   "execution_count": 62,
   "id": "63c8b597",
   "metadata": {},
   "outputs": [],
   "source": [
    "delta3 = dict()\n",
    "delta3['m_x'] = delta['m_x']\n",
    "delta3['m_y'] = delta['m_y']\n",
    "delta3['m_z'] = delta['m_z']\n",
    "delta3['zeta_xx'] = delta['chi_xx']-delta2['m_xx']\n",
    "delta3['zeta_xy'] = delta['chi_xy']-delta2['m_xy']\n",
    "delta3['zeta_xz'] = delta['chi_xz']-delta2['m_xz']\n",
    "delta3['zeta_yy'] = delta['chi_yy']-delta2['m_yy']\n",
    "delta3['zeta_yz'] = delta['chi_yz']-delta2['m_yz']\n",
    "delta3['zeta_zz'] = delta['chi_zz']-delta2['m_zz']\n",
    "\n",
    "for key, values in delta3.items():\n",
    "    delta3[key] = sym.simplify(sym.expand(delta3[key].subs(zeta_subs_list)))\n",
    "\n",
    "    \n",
    "\n",
    "# for key, values in delta.items():\n",
    "#     delta[key] = sym.expand(sym.simplify(delta[key]))\n",
    "#     delta[key] = sym.ordered(delta[key])"
   ]
  },
  {
   "cell_type": "code",
   "execution_count": 47,
   "id": "2ab8c792",
   "metadata": {
    "scrolled": false
   },
   "outputs": [
    {
     "data": {
      "text/plain": [
       "'m_x'"
      ]
     },
     "metadata": {},
     "output_type": "display_data"
    },
    {
     "data": {
      "text/latex": [
       "$\\displaystyle \\kappa \\left(2 m_{x} m_{z} + \\zeta_{xz}\\right)$"
      ],
      "text/plain": [
       "kappa*(2*m_x*m_z + zeta_xz)"
      ]
     },
     "metadata": {},
     "output_type": "display_data"
    },
    {
     "data": {
      "text/plain": [
       "'m_y'"
      ]
     },
     "metadata": {},
     "output_type": "display_data"
    },
    {
     "data": {
      "text/latex": [
       "$\\displaystyle 2 \\kappa m_{y} m_{z} + \\kappa \\zeta_{yz} - m_{z} \\omega_{0}$"
      ],
      "text/plain": [
       "2*kappa*m_y*m_z + kappa*zeta_yz - m_z*omega_0"
      ]
     },
     "metadata": {},
     "output_type": "display_data"
    },
    {
     "data": {
      "text/plain": [
       "'m_z'"
      ]
     },
     "metadata": {},
     "output_type": "display_data"
    },
    {
     "data": {
      "text/latex": [
       "$\\displaystyle - 2 \\kappa m_{x}^{2} - 2 \\kappa m_{y}^{2} - \\kappa \\zeta_{xx} - \\kappa \\zeta_{yy} + m_{y} \\omega_{0}$"
      ],
      "text/plain": [
       "-2*kappa*m_x**2 - 2*kappa*m_y**2 - kappa*zeta_xx - kappa*zeta_yy + m_y*omega_0"
      ]
     },
     "metadata": {},
     "output_type": "display_data"
    },
    {
     "data": {
      "text/plain": [
       "'zeta_xx'"
      ]
     },
     "metadata": {},
     "output_type": "display_data"
    },
    {
     "data": {
      "text/latex": [
       "$\\displaystyle 2 \\kappa m_{z} \\zeta_{xx}$"
      ],
      "text/plain": [
       "2*kappa*m_z*zeta_xx"
      ]
     },
     "metadata": {},
     "output_type": "display_data"
    },
    {
     "data": {
      "text/plain": [
       "'zeta_xy'"
      ]
     },
     "metadata": {},
     "output_type": "display_data"
    },
    {
     "data": {
      "text/latex": [
       "$\\displaystyle 2 \\kappa m_{z} \\zeta_{xy} - \\omega_{0} \\zeta_{xz}$"
      ],
      "text/plain": [
       "2*kappa*m_z*zeta_xy - omega_0*zeta_xz"
      ]
     },
     "metadata": {},
     "output_type": "display_data"
    },
    {
     "data": {
      "text/plain": [
       "'zeta_xz'"
      ]
     },
     "metadata": {},
     "output_type": "display_data"
    },
    {
     "data": {
      "text/latex": [
       "$\\displaystyle - \\kappa m_{x} \\zeta_{xx} + \\kappa m_{x} \\zeta_{yy} + \\kappa m_{x} \\zeta_{zz} - 2 \\kappa m_{y} \\zeta_{xy} + \\omega_{0} \\zeta_{xy}$"
      ],
      "text/plain": [
       "-kappa*m_x*zeta_xx + kappa*m_x*zeta_yy + kappa*m_x*zeta_zz - 2*kappa*m_y*zeta_xy + omega_0*zeta_xy"
      ]
     },
     "metadata": {},
     "output_type": "display_data"
    },
    {
     "data": {
      "text/plain": [
       "'zeta_yy'"
      ]
     },
     "metadata": {},
     "output_type": "display_data"
    },
    {
     "data": {
      "text/latex": [
       "$\\displaystyle 2 \\kappa m_{z} \\zeta_{yy} - 2 \\omega_{0} \\zeta_{yz}$"
      ],
      "text/plain": [
       "2*kappa*m_z*zeta_yy - 2*omega_0*zeta_yz"
      ]
     },
     "metadata": {},
     "output_type": "display_data"
    },
    {
     "data": {
      "text/plain": [
       "'zeta_yz'"
      ]
     },
     "metadata": {},
     "output_type": "display_data"
    },
    {
     "data": {
      "text/latex": [
       "$\\displaystyle - 2 \\kappa m_{x} \\zeta_{xy} + \\kappa m_{y} \\zeta_{xx} - \\kappa m_{y} \\zeta_{yy} + \\kappa m_{y} \\zeta_{zz} + \\omega_{0} \\zeta_{yy} - \\omega_{0} \\zeta_{zz}$"
      ],
      "text/plain": [
       "-2*kappa*m_x*zeta_xy + kappa*m_y*zeta_xx - kappa*m_y*zeta_yy + kappa*m_y*zeta_zz + omega_0*zeta_yy - omega_0*zeta_zz"
      ]
     },
     "metadata": {},
     "output_type": "display_data"
    },
    {
     "data": {
      "text/plain": [
       "'zeta_zz'"
      ]
     },
     "metadata": {},
     "output_type": "display_data"
    },
    {
     "data": {
      "text/latex": [
       "$\\displaystyle - 4 \\kappa m_{x} \\zeta_{xz} - 4 \\kappa m_{y} \\zeta_{yz} + 2 \\kappa m_{z} \\zeta_{xx} + 2 \\kappa m_{z} \\zeta_{yy} + 2 \\omega_{0} \\zeta_{yz}$"
      ],
      "text/plain": [
       "-4*kappa*m_x*zeta_xz - 4*kappa*m_y*zeta_yz + 2*kappa*m_z*zeta_xx + 2*kappa*m_z*zeta_yy + 2*omega_0*zeta_yz"
      ]
     },
     "metadata": {},
     "output_type": "display_data"
    }
   ],
   "source": [
    "for key in delta3:\n",
    "    #sym.print_latex(delta[key])\n",
    "    #display(delta[key])\n",
    "    display(key, delta3[key])"
   ]
  },
  {
   "cell_type": "code",
   "execution_count": 34,
   "id": "fc1afb7c",
   "metadata": {},
   "outputs": [
    {
     "data": {
      "text/latex": [
       "$\\displaystyle \\frac{2 \\kappa m_{z} \\left(\\chi_{xx} - m_{x}^{2}\\right)}{2 \\chi_{xy} \\kappa m_{z} - \\chi_{xz} \\omega_{0} - 2 \\kappa m_{x} m_{y} m_{z} + m_{x} m_{z} \\omega_{0}}$"
      ],
      "text/plain": [
       "2*kappa*m_z*(chi_xx - m_x**2)/(2*chi_xy*kappa*m_z - chi_xz*omega_0 - 2*kappa*m_x*m_y*m_z + m_x*m_z*omega_0)"
      ]
     },
     "execution_count": 34,
     "metadata": {},
     "output_type": "execute_result"
    }
   ],
   "source": [
    "sym.simplify((delta2['m_xx']-delta['chi_xx'])/(delta2['m_xy']-delta['chi_xy']))"
   ]
  },
  {
   "cell_type": "markdown",
   "id": "7f9c7c98",
   "metadata": {},
   "source": [
    "### Total Derivative"
   ]
  },
  {
   "cell_type": "code",
   "execution_count": 49,
   "id": "04eb2399",
   "metadata": {},
   "outputs": [],
   "source": [
    "def derivative(expr):\n",
    "    der = 0\n",
    "    symbols_list=[m_x, m_y, m_z, ch_xx, ch_xy, ch_xz, ch_yy, ch_yz, ch_zz]\n",
    "    for symbol in symbols_list:\n",
    "        der = der + sym.diff(expr,symbol)*delta[symbol.name]\n",
    "    der = sym.simplify(der)\n",
    "    return der"
   ]
  },
  {
   "cell_type": "markdown",
   "id": "1cbefaa7",
   "metadata": {},
   "source": [
    "### Conserved Quantities"
   ]
  },
  {
   "cell_type": "markdown",
   "id": "dd26be80",
   "metadata": {},
   "source": [
    "#### $m_x^2+m_y^2+m_z^2+\\chi_{xx}+\\chi_{yy}+\\chi_{zz}$"
   ]
  },
  {
   "cell_type": "code",
   "execution_count": 50,
   "id": "9cafd365",
   "metadata": {},
   "outputs": [
    {
     "data": {
      "text/latex": [
       "$\\displaystyle 0$"
      ],
      "text/plain": [
       "0"
      ]
     },
     "execution_count": 50,
     "metadata": {},
     "output_type": "execute_result"
    }
   ],
   "source": [
    "derivative(m_x**2+m_y**2+m_z**2+ch_xx+ch_yy+ch_zz)"
   ]
  },
  {
   "cell_type": "markdown",
   "id": "bce84dd5",
   "metadata": {},
   "source": [
    "#### $\\frac{\\chi_{xy}-m_xm_y+\\frac{\\omega_0}{\\kappa}m_x}{\\chi_{xx}-m_x^2}$"
   ]
  },
  {
   "cell_type": "code",
   "execution_count": 64,
   "id": "613c6dff",
   "metadata": {
    "scrolled": true
   },
   "outputs": [
    {
     "data": {
      "text/latex": [
       "$\\displaystyle 0$"
      ],
      "text/plain": [
       "0"
      ]
     },
     "execution_count": 64,
     "metadata": {},
     "output_type": "execute_result"
    }
   ],
   "source": [
    "derivative((ch_xy-m_x*m_y+(w0/k)*m_x)/(ch_xx-m_x*m_x))"
   ]
  },
  {
   "cell_type": "markdown",
   "id": "e955f112",
   "metadata": {},
   "source": [
    "#### $\\frac{\\chi_{yy}-m_y^2+2\\frac{\\omega_0}{\\kappa}m_y-\\frac{\\omega_0^2}{\\kappa^2}}{\\chi_{xx}-m_x^2}$"
   ]
  },
  {
   "cell_type": "code",
   "execution_count": 69,
   "id": "964d1190",
   "metadata": {
    "scrolled": true
   },
   "outputs": [
    {
     "data": {
      "text/latex": [
       "$\\displaystyle 0$"
      ],
      "text/plain": [
       "0"
      ]
     },
     "execution_count": 69,
     "metadata": {},
     "output_type": "execute_result"
    }
   ],
   "source": [
    "derivative((ch_yy-(m_y-w0/k)**2)/(ch_xx-m_x*m_x))"
   ]
  },
  {
   "cell_type": "markdown",
   "id": "d6c9055a",
   "metadata": {},
   "source": [
    "#### $\\frac{\\chi_{yy}-m_y^2+2\\frac{\\omega_0}{\\kappa}m_y-\\frac{\\omega_0^2}{\\kappa^2}}{\\chi_{xx}-m_x^2}$"
   ]
  },
  {
   "cell_type": "code",
   "execution_count": 70,
   "id": "645d2f7f",
   "metadata": {
    "scrolled": true
   },
   "outputs": [
    {
     "data": {
      "text/latex": [
       "$\\displaystyle 0$"
      ],
      "text/plain": [
       "0"
      ]
     },
     "execution_count": 70,
     "metadata": {},
     "output_type": "execute_result"
    }
   ],
   "source": [
    "derivative((ch_yy-(m_y-w0/k)**2)/(ch_xy-m_x*m_y+(w0/k)*m_x))"
   ]
  },
  {
   "cell_type": "markdown",
   "id": "e7e16381",
   "metadata": {},
   "source": [
    "#### Others"
   ]
  },
  {
   "cell_type": "code",
   "execution_count": null,
   "id": "5c6068b3",
   "metadata": {},
   "outputs": [],
   "source": [
    "sym.simplify(derivative(ch_xx-m_x*m_y+(w0/k)*m_x))"
   ]
  },
  {
   "cell_type": "code",
   "execution_count": 79,
   "id": "d3da744a",
   "metadata": {},
   "outputs": [
    {
     "data": {
      "text/latex": [
       "$\\displaystyle - \\frac{2 \\chi_{xx} \\kappa m_{x}}{\\chi_{xz}} + \\frac{2 \\chi_{xy} \\kappa m_{x}}{\\chi_{yz}} - \\frac{2 \\chi_{xy} \\kappa m_{y}}{\\chi_{xz}} + \\frac{\\chi_{xy} \\omega_{0}}{\\chi_{xz}} + \\frac{2 \\chi_{yy} \\kappa m_{y}}{\\chi_{yz}} - \\frac{\\chi_{yy} \\omega_{0}}{\\chi_{yz}} - \\frac{\\chi_{zz} \\kappa m_{y}}{\\chi_{yz}} + \\frac{\\chi_{zz} \\omega_{0}}{\\chi_{yz}} + \\frac{\\chi_{zz} \\kappa m_{x}}{\\chi_{xz}}$"
      ],
      "text/plain": [
       "-2*chi_xx*kappa*m_x/chi_xz + 2*chi_xy*kappa*m_x/chi_yz - 2*chi_xy*kappa*m_y/chi_xz + chi_xy*omega_0/chi_xz + 2*chi_yy*kappa*m_y/chi_yz - chi_yy*omega_0/chi_yz - chi_zz*kappa*m_y/chi_yz + chi_zz*omega_0/chi_yz + chi_zz*kappa*m_x/chi_xz"
      ]
     },
     "execution_count": 79,
     "metadata": {},
     "output_type": "execute_result"
    }
   ],
   "source": [
    "sym.simplify(derivative(ch_xz)/ch_xz-derivative(ch_yz)/ch_yz)"
   ]
  },
  {
   "cell_type": "code",
   "execution_count": 85,
   "id": "80d4fc47",
   "metadata": {},
   "outputs": [],
   "source": [
    "soln_xy=sym.solve(sym.simplify(derivative(ch_xz)/ch_xz-derivative(ch_yz)/ch_yz),ch_xy)[0]"
   ]
  },
  {
   "cell_type": "code",
   "execution_count": 91,
   "id": "0b03a580",
   "metadata": {},
   "outputs": [
    {
     "data": {
      "text/latex": [
       "$\\displaystyle \\frac{2 \\chi_{xx} \\chi_{yz} \\kappa m_{x} - 2 \\chi_{xz} \\chi_{yy} \\kappa m_{y} + \\chi_{xz} \\chi_{yy} \\omega_{0} + \\chi_{xz} \\chi_{zz} \\kappa m_{y} - \\chi_{xz} \\chi_{zz} \\omega_{0} - \\chi_{yz} \\chi_{zz} \\kappa m_{x}}{2 \\chi_{xz} \\kappa m_{x} - 2 \\chi_{yz} \\kappa m_{y} + \\chi_{yz} \\omega_{0}}$"
      ],
      "text/plain": [
       "(2*chi_xx*chi_yz*kappa*m_x - 2*chi_xz*chi_yy*kappa*m_y + chi_xz*chi_yy*omega_0 + chi_xz*chi_zz*kappa*m_y - chi_xz*chi_zz*omega_0 - chi_yz*chi_zz*kappa*m_x)/(2*chi_xz*kappa*m_x - 2*chi_yz*kappa*m_y + chi_yz*omega_0)"
      ]
     },
     "execution_count": 91,
     "metadata": {},
     "output_type": "execute_result"
    }
   ],
   "source": [
    "soln_xy"
   ]
  },
  {
   "cell_type": "code",
   "execution_count": 90,
   "id": "36df9694",
   "metadata": {},
   "outputs": [
    {
     "data": {
      "text/latex": [
       "$\\displaystyle \\frac{C \\left(2 \\chi_{xx} \\kappa m_{y} - 2 \\chi_{xx} \\omega_{0} - 2 \\chi_{yy} \\kappa m_{y} + \\chi_{yy} \\omega_{0}\\right)}{2 C^{2} \\kappa m_{y} - 2 C^{2} \\omega_{0} - 2 \\kappa m_{y} + \\omega_{0}}$"
      ],
      "text/plain": [
       "C*(2*chi_xx*kappa*m_y - 2*chi_xx*omega_0 - 2*chi_yy*kappa*m_y + chi_yy*omega_0)/(2*C**2*kappa*m_y - 2*C**2*omega_0 - 2*kappa*m_y + omega_0)"
      ]
     },
     "execution_count": 90,
     "metadata": {},
     "output_type": "execute_result"
    }
   ],
   "source": [
    "sym.simplify(soln_xy.subs({m_x:C*(m_y-w0/k),ch_xz:C*ch_yz}))"
   ]
  },
  {
   "cell_type": "markdown",
   "id": "0904fcd2",
   "metadata": {},
   "source": [
    "## Jacobian"
   ]
  },
  {
   "cell_type": "code",
   "execution_count": null,
   "id": "3b2eb63c",
   "metadata": {},
   "outputs": [],
   "source": [
    "X = sym.Matrix(list(delta.values()))\n",
    "Y = sym.Matrix([m_x, m_y, m_z, ch_xx, ch_xy, ch_xz, ch_yy, ch_yz, ch_zz])\n",
    "jacobian = sym.simplify(X.jacobian(Y))"
   ]
  },
  {
   "cell_type": "code",
   "execution_count": 19,
   "id": "929a1dc3",
   "metadata": {},
   "outputs": [],
   "source": [
    "solutions = sym.solve(list(delta.values()), [m_x, m_y, m_z, ch_xx, ch_xy, ch_xz, ch_yy, ch_yz, ch_zz], dict=True)"
   ]
  },
  {
   "cell_type": "code",
   "execution_count": 20,
   "id": "d29458ed",
   "metadata": {},
   "outputs": [
    {
     "data": {
      "text/plain": [
       "[{chi_xx: m_x**2,\n",
       "  chi_xy: m_x*(24*kappa**2*m_x**2*m_y + 8*kappa**2*m_y**3 - 8*kappa*m_x**2*omega_0 - 6*kappa*m_y**2*omega_0 + m_y*omega_0**2)/(8*kappa**2*m_x**2 - 8*kappa**2*m_y**2 + 6*kappa*m_y*omega_0 - omega_0**2),\n",
       "  chi_xz: 0,\n",
       "  chi_yy: -2*m_x**2 - m_y**2 + m_y*omega_0/(2*kappa),\n",
       "  chi_yz: 0,\n",
       "  chi_zz: (32*kappa**3*m_x**4 + 64*kappa**3*m_x**2*m_y**2 + 32*kappa**3*m_y**4 - 32*kappa**2*m_x**2*m_y*omega_0 - 32*kappa**2*m_y**3*omega_0 + 4*kappa*m_x**2*omega_0**2 + 10*kappa*m_y**2*omega_0**2 - m_y*omega_0**3)/(2*kappa*(8*kappa**2*m_x**2 - 8*kappa**2*m_y**2 + 6*kappa*m_y*omega_0 - omega_0**2)),\n",
       "  m_z: 0},\n",
       " {chi_xx: -m_y**2 + 3*m_y*omega_0/(4*kappa) - omega_0**2/(8*kappa**2),\n",
       "  chi_xy: (-kappa*m_y/4 + omega_0/8)*sqrt(-16*kappa**2*m_y**2 + 12*kappa*m_y*omega_0 - 2*omega_0**2)/kappa**2,\n",
       "  chi_xz: m_z*sqrt(-16*kappa**2*m_y**2 + 12*kappa*m_y*omega_0 - 2*omega_0**2)/(4*kappa),\n",
       "  chi_yy: m_y**2 - m_y*omega_0/kappa + omega_0**2/(4*kappa**2),\n",
       "  chi_yz: -m_y*m_z + m_z*omega_0/(2*kappa),\n",
       "  chi_zz: m_z**2,\n",
       "  m_x: -sqrt(-16*kappa**2*m_y**2 + 12*kappa*m_y*omega_0 - 2*omega_0**2)/(4*kappa)},\n",
       " {chi_xx: 0,\n",
       "  chi_xy: 0,\n",
       "  chi_xz: 0,\n",
       "  chi_yy: omega_0*(omega_0 - Abs(omega_0))/(32*kappa**2),\n",
       "  chi_yz: m_z*(omega_0 - Abs(omega_0))/(8*kappa),\n",
       "  chi_zz: m_z**2,\n",
       "  m_x: 0,\n",
       "  m_y: (3*omega_0 + Abs(omega_0))/(8*kappa)},\n",
       " {chi_xx: 0,\n",
       "  chi_xz: 0,\n",
       "  chi_yy: omega_0**2/(16*kappa**2),\n",
       "  chi_yz: 0,\n",
       "  chi_zz: 0,\n",
       "  m_x: 0,\n",
       "  m_y: omega_0/(4*kappa),\n",
       "  m_z: 0}]"
      ]
     },
     "execution_count": 20,
     "metadata": {},
     "output_type": "execute_result"
    }
   ],
   "source": [
    "solutions"
   ]
  },
  {
   "cell_type": "code",
   "execution_count": 26,
   "id": "56395624",
   "metadata": {},
   "outputs": [
    {
     "ename": "KeyboardInterrupt",
     "evalue": "",
     "output_type": "error",
     "traceback": [
      "\u001b[0;31m---------------------------------------------------------------------------\u001b[0m",
      "\u001b[0;31mKeyboardInterrupt\u001b[0m                         Traceback (most recent call last)",
      "Cell \u001b[0;32mIn [26], line 1\u001b[0m\n\u001b[0;32m----> 1\u001b[0m solutions1 \u001b[38;5;241m=\u001b[39m \u001b[43msym\u001b[49m\u001b[38;5;241;43m.\u001b[39;49m\u001b[43msolve\u001b[49m\u001b[43m(\u001b[49m\u001b[38;5;28;43mlist\u001b[39;49m\u001b[43m(\u001b[49m\u001b[43mdelta\u001b[49m\u001b[38;5;241;43m.\u001b[39;49m\u001b[43mvalues\u001b[49m\u001b[43m(\u001b[49m\u001b[43m)\u001b[49m\u001b[43m)\u001b[49m\u001b[38;5;241;43m+\u001b[39;49m\u001b[43m[\u001b[49m\u001b[43mm_x\u001b[49m\u001b[38;5;241;43m*\u001b[39;49m\u001b[38;5;241;43m*\u001b[39;49m\u001b[38;5;241;43m2\u001b[39;49m\u001b[38;5;241;43m+\u001b[39;49m\u001b[43mm_y\u001b[49m\u001b[38;5;241;43m*\u001b[39;49m\u001b[38;5;241;43m*\u001b[39;49m\u001b[38;5;241;43m2\u001b[39;49m\u001b[38;5;241;43m+\u001b[39;49m\u001b[43mm_z\u001b[49m\u001b[38;5;241;43m*\u001b[39;49m\u001b[38;5;241;43m*\u001b[39;49m\u001b[38;5;241;43m2\u001b[39;49m\u001b[38;5;241;43m+\u001b[39;49m\u001b[43mch_xx\u001b[49m\u001b[38;5;241;43m+\u001b[39;49m\u001b[43mch_yy\u001b[49m\u001b[38;5;241;43m+\u001b[39;49m\u001b[43mch_zz\u001b[49m\u001b[38;5;241;43m-\u001b[39;49m\u001b[38;5;241;43m1\u001b[39;49m\u001b[43m]\u001b[49m\u001b[43m,\u001b[49m\u001b[43m \u001b[49m\u001b[43m[\u001b[49m\u001b[43mm_x\u001b[49m\u001b[43m,\u001b[49m\u001b[43m \u001b[49m\u001b[43mm_y\u001b[49m\u001b[43m,\u001b[49m\u001b[43m \u001b[49m\u001b[43mm_z\u001b[49m\u001b[43m,\u001b[49m\u001b[43m \u001b[49m\u001b[43mch_xx\u001b[49m\u001b[43m,\u001b[49m\u001b[43m \u001b[49m\u001b[43mch_xy\u001b[49m\u001b[43m,\u001b[49m\u001b[43m \u001b[49m\u001b[43mch_xz\u001b[49m\u001b[43m,\u001b[49m\u001b[43m \u001b[49m\u001b[43mch_yy\u001b[49m\u001b[43m,\u001b[49m\u001b[43m \u001b[49m\u001b[43mch_yz\u001b[49m\u001b[43m,\u001b[49m\u001b[43m \u001b[49m\u001b[43mch_zz\u001b[49m\u001b[43m]\u001b[49m\u001b[43m,\u001b[49m\u001b[43m \u001b[49m\u001b[38;5;28;43mdict\u001b[39;49m\u001b[38;5;241;43m=\u001b[39;49m\u001b[38;5;28;43;01mTrue\u001b[39;49;00m\u001b[43m)\u001b[49m\n",
      "File \u001b[0;32m~/anaconda3/envs/physics/lib/python3.10/site-packages/sympy/solvers/solvers.py:1114\u001b[0m, in \u001b[0;36msolve\u001b[0;34m(f, *symbols, **flags)\u001b[0m\n\u001b[1;32m   1112\u001b[0m     solution \u001b[38;5;241m=\u001b[39m _solve(f[\u001b[38;5;241m0\u001b[39m], \u001b[38;5;241m*\u001b[39msymbols, \u001b[38;5;241m*\u001b[39m\u001b[38;5;241m*\u001b[39mflags)\n\u001b[1;32m   1113\u001b[0m \u001b[38;5;28;01melse\u001b[39;00m:\n\u001b[0;32m-> 1114\u001b[0m     solution \u001b[38;5;241m=\u001b[39m \u001b[43m_solve_system\u001b[49m\u001b[43m(\u001b[49m\u001b[43mf\u001b[49m\u001b[43m,\u001b[49m\u001b[43m \u001b[49m\u001b[43msymbols\u001b[49m\u001b[43m,\u001b[49m\u001b[43m \u001b[49m\u001b[38;5;241;43m*\u001b[39;49m\u001b[38;5;241;43m*\u001b[39;49m\u001b[43mflags\u001b[49m\u001b[43m)\u001b[49m\n\u001b[1;32m   1116\u001b[0m \u001b[38;5;66;03m#\u001b[39;00m\n\u001b[1;32m   1117\u001b[0m \u001b[38;5;66;03m# postprocessing\u001b[39;00m\n\u001b[1;32m   1118\u001b[0m \u001b[38;5;66;03m###########################################################################\u001b[39;00m\n\u001b[1;32m   1119\u001b[0m \u001b[38;5;66;03m# Restore masked-off objects\u001b[39;00m\n\u001b[1;32m   1120\u001b[0m \u001b[38;5;28;01mif\u001b[39;00m non_inverts:\n",
      "File \u001b[0;32m~/anaconda3/envs/physics/lib/python3.10/site-packages/sympy/solvers/solvers.py:1889\u001b[0m, in \u001b[0;36m_solve_system\u001b[0;34m(exprs, symbols, **flags)\u001b[0m\n\u001b[1;32m   1887\u001b[0m \u001b[38;5;28;01melse\u001b[39;00m:\n\u001b[1;32m   1888\u001b[0m     \u001b[38;5;28;01mtry\u001b[39;00m:\n\u001b[0;32m-> 1889\u001b[0m         result \u001b[38;5;241m=\u001b[39m \u001b[43msolve_poly_system\u001b[49m\u001b[43m(\u001b[49m\u001b[43mpolys\u001b[49m\u001b[43m,\u001b[49m\u001b[43m \u001b[49m\u001b[38;5;241;43m*\u001b[39;49m\u001b[43msymbols\u001b[49m\u001b[43m)\u001b[49m\n\u001b[1;32m   1890\u001b[0m         \u001b[38;5;28;01mif\u001b[39;00m result:\n\u001b[1;32m   1891\u001b[0m             solved_syms \u001b[38;5;241m=\u001b[39m symbols\n",
      "File \u001b[0;32m~/anaconda3/envs/physics/lib/python3.10/site-packages/sympy/solvers/polysys.py:76\u001b[0m, in \u001b[0;36msolve_poly_system\u001b[0;34m(seq, strict, *gens, **args)\u001b[0m\n\u001b[1;32m     73\u001b[0m         \u001b[38;5;28;01mexcept\u001b[39;00m SolveFailed:\n\u001b[1;32m     74\u001b[0m             \u001b[38;5;28;01mpass\u001b[39;00m\n\u001b[0;32m---> 76\u001b[0m \u001b[38;5;28;01mreturn\u001b[39;00m \u001b[43msolve_generic\u001b[49m\u001b[43m(\u001b[49m\u001b[43mpolys\u001b[49m\u001b[43m,\u001b[49m\u001b[43m \u001b[49m\u001b[43mopt\u001b[49m\u001b[43m,\u001b[49m\u001b[43m \u001b[49m\u001b[43mstrict\u001b[49m\u001b[38;5;241;43m=\u001b[39;49m\u001b[43mstrict\u001b[49m\u001b[43m)\u001b[49m\n",
      "File \u001b[0;32m~/anaconda3/envs/physics/lib/python3.10/site-packages/sympy/solvers/polysys.py:326\u001b[0m, in \u001b[0;36msolve_generic\u001b[0;34m(polys, opt, strict)\u001b[0m\n\u001b[1;32m    323\u001b[0m     \u001b[38;5;28;01mreturn\u001b[39;00m solutions\n\u001b[1;32m    325\u001b[0m \u001b[38;5;28;01mtry\u001b[39;00m:\n\u001b[0;32m--> 326\u001b[0m     result \u001b[38;5;241m=\u001b[39m \u001b[43m_solve_reduced_system\u001b[49m\u001b[43m(\u001b[49m\u001b[43mpolys\u001b[49m\u001b[43m,\u001b[49m\u001b[43m \u001b[49m\u001b[43mopt\u001b[49m\u001b[38;5;241;43m.\u001b[39;49m\u001b[43mgens\u001b[49m\u001b[43m,\u001b[49m\u001b[43m \u001b[49m\u001b[43mentry\u001b[49m\u001b[38;5;241;43m=\u001b[39;49m\u001b[38;5;28;43;01mTrue\u001b[39;49;00m\u001b[43m)\u001b[49m\n\u001b[1;32m    327\u001b[0m \u001b[38;5;28;01mexcept\u001b[39;00m CoercionFailed:\n\u001b[1;32m    328\u001b[0m     \u001b[38;5;28;01mraise\u001b[39;00m \u001b[38;5;167;01mNotImplementedError\u001b[39;00m\n",
      "File \u001b[0;32m~/anaconda3/envs/physics/lib/python3.10/site-packages/sympy/solvers/polysys.py:266\u001b[0m, in \u001b[0;36msolve_generic.<locals>._solve_reduced_system\u001b[0;34m(system, gens, entry)\u001b[0m\n\u001b[1;32m    263\u001b[0m     zeros \u001b[38;5;241m=\u001b[39m \u001b[38;5;28mlist\u001b[39m(roots(system[\u001b[38;5;241m0\u001b[39m], gens[\u001b[38;5;241m-\u001b[39m\u001b[38;5;241m1\u001b[39m], strict\u001b[38;5;241m=\u001b[39mstrict)\u001b[38;5;241m.\u001b[39mkeys())\n\u001b[1;32m    264\u001b[0m     \u001b[38;5;28;01mreturn\u001b[39;00m [(zero,) \u001b[38;5;28;01mfor\u001b[39;00m zero \u001b[38;5;129;01min\u001b[39;00m zeros]\n\u001b[0;32m--> 266\u001b[0m basis \u001b[38;5;241m=\u001b[39m \u001b[43mgroebner\u001b[49m\u001b[43m(\u001b[49m\u001b[43msystem\u001b[49m\u001b[43m,\u001b[49m\u001b[43m \u001b[49m\u001b[43mgens\u001b[49m\u001b[43m,\u001b[49m\u001b[43m \u001b[49m\u001b[43mpolys\u001b[49m\u001b[38;5;241;43m=\u001b[39;49m\u001b[38;5;28;43;01mTrue\u001b[39;49;00m\u001b[43m)\u001b[49m\n\u001b[1;32m    268\u001b[0m \u001b[38;5;28;01mif\u001b[39;00m \u001b[38;5;28mlen\u001b[39m(basis) \u001b[38;5;241m==\u001b[39m \u001b[38;5;241m1\u001b[39m \u001b[38;5;129;01mand\u001b[39;00m basis[\u001b[38;5;241m0\u001b[39m]\u001b[38;5;241m.\u001b[39mis_ground:\n\u001b[1;32m    269\u001b[0m     \u001b[38;5;28;01mif\u001b[39;00m \u001b[38;5;129;01mnot\u001b[39;00m entry:\n",
      "File \u001b[0;32m~/anaconda3/envs/physics/lib/python3.10/site-packages/sympy/polys/polytools.py:6922\u001b[0m, in \u001b[0;36mgroebner\u001b[0;34m(F, *gens, **args)\u001b[0m\n\u001b[1;32m   6871\u001b[0m \u001b[38;5;129m@public\u001b[39m\n\u001b[1;32m   6872\u001b[0m \u001b[38;5;28;01mdef\u001b[39;00m \u001b[38;5;21mgroebner\u001b[39m(F, \u001b[38;5;241m*\u001b[39mgens, \u001b[38;5;241m*\u001b[39m\u001b[38;5;241m*\u001b[39margs):\n\u001b[1;32m   6873\u001b[0m     \u001b[38;5;124;03m\"\"\"\u001b[39;00m\n\u001b[1;32m   6874\u001b[0m \u001b[38;5;124;03m    Computes the reduced Groebner basis for a set of polynomials.\u001b[39;00m\n\u001b[1;32m   6875\u001b[0m \n\u001b[0;32m   (...)\u001b[0m\n\u001b[1;32m   6920\u001b[0m \n\u001b[1;32m   6921\u001b[0m \u001b[38;5;124;03m    \"\"\"\u001b[39;00m\n\u001b[0;32m-> 6922\u001b[0m     \u001b[38;5;28;01mreturn\u001b[39;00m \u001b[43mGroebnerBasis\u001b[49m\u001b[43m(\u001b[49m\u001b[43mF\u001b[49m\u001b[43m,\u001b[49m\u001b[43m \u001b[49m\u001b[38;5;241;43m*\u001b[39;49m\u001b[43mgens\u001b[49m\u001b[43m,\u001b[49m\u001b[43m \u001b[49m\u001b[38;5;241;43m*\u001b[39;49m\u001b[38;5;241;43m*\u001b[39;49m\u001b[43margs\u001b[49m\u001b[43m)\u001b[49m\n",
      "File \u001b[0;32m~/anaconda3/envs/physics/lib/python3.10/site-packages/sympy/polys/polytools.py:6961\u001b[0m, in \u001b[0;36mGroebnerBasis.__new__\u001b[0;34m(cls, F, *gens, **args)\u001b[0m\n\u001b[1;32m   6957\u001b[0m ring \u001b[38;5;241m=\u001b[39m PolyRing(opt\u001b[38;5;241m.\u001b[39mgens, opt\u001b[38;5;241m.\u001b[39mdomain, opt\u001b[38;5;241m.\u001b[39morder)\n\u001b[1;32m   6959\u001b[0m polys \u001b[38;5;241m=\u001b[39m [ring\u001b[38;5;241m.\u001b[39mfrom_dict(poly\u001b[38;5;241m.\u001b[39mrep\u001b[38;5;241m.\u001b[39mto_dict()) \u001b[38;5;28;01mfor\u001b[39;00m poly \u001b[38;5;129;01min\u001b[39;00m polys \u001b[38;5;28;01mif\u001b[39;00m poly]\n\u001b[0;32m-> 6961\u001b[0m G \u001b[38;5;241m=\u001b[39m \u001b[43m_groebner\u001b[49m\u001b[43m(\u001b[49m\u001b[43mpolys\u001b[49m\u001b[43m,\u001b[49m\u001b[43m \u001b[49m\u001b[43mring\u001b[49m\u001b[43m,\u001b[49m\u001b[43m \u001b[49m\u001b[43mmethod\u001b[49m\u001b[38;5;241;43m=\u001b[39;49m\u001b[43mopt\u001b[49m\u001b[38;5;241;43m.\u001b[39;49m\u001b[43mmethod\u001b[49m\u001b[43m)\u001b[49m\n\u001b[1;32m   6962\u001b[0m G \u001b[38;5;241m=\u001b[39m [Poly\u001b[38;5;241m.\u001b[39m_from_dict(g, opt) \u001b[38;5;28;01mfor\u001b[39;00m g \u001b[38;5;129;01min\u001b[39;00m G]\n\u001b[1;32m   6964\u001b[0m \u001b[38;5;28;01mreturn\u001b[39;00m \u001b[38;5;28mcls\u001b[39m\u001b[38;5;241m.\u001b[39m_new(G, opt)\n",
      "File \u001b[0;32m~/anaconda3/envs/physics/lib/python3.10/site-packages/sympy/polys/groebnertools.py:43\u001b[0m, in \u001b[0;36mgroebner\u001b[0;34m(seq, ring, method)\u001b[0m\n\u001b[1;32m     40\u001b[0m     \u001b[38;5;28;01melse\u001b[39;00m:\n\u001b[1;32m     41\u001b[0m         seq \u001b[38;5;241m=\u001b[39m [ s\u001b[38;5;241m.\u001b[39mset_ring(ring) \u001b[38;5;28;01mfor\u001b[39;00m s \u001b[38;5;129;01min\u001b[39;00m seq ]\n\u001b[0;32m---> 43\u001b[0m G \u001b[38;5;241m=\u001b[39m \u001b[43m_groebner\u001b[49m\u001b[43m(\u001b[49m\u001b[43mseq\u001b[49m\u001b[43m,\u001b[49m\u001b[43m \u001b[49m\u001b[43mring\u001b[49m\u001b[43m)\u001b[49m\n\u001b[1;32m     45\u001b[0m \u001b[38;5;28;01mif\u001b[39;00m orig \u001b[38;5;129;01mis\u001b[39;00m \u001b[38;5;129;01mnot\u001b[39;00m \u001b[38;5;28;01mNone\u001b[39;00m:\n\u001b[1;32m     46\u001b[0m     G \u001b[38;5;241m=\u001b[39m [ g\u001b[38;5;241m.\u001b[39mclear_denoms()[\u001b[38;5;241m1\u001b[39m]\u001b[38;5;241m.\u001b[39mset_ring(orig) \u001b[38;5;28;01mfor\u001b[39;00m g \u001b[38;5;129;01min\u001b[39;00m G ]\n",
      "File \u001b[0;32m~/anaconda3/envs/physics/lib/python3.10/site-packages/sympy/polys/groebnertools.py:238\u001b[0m, in \u001b[0;36m_buchberger\u001b[0;34m(f, ring)\u001b[0m\n\u001b[1;32m    236\u001b[0m \u001b[38;5;66;03m# ordering divisors is on average more efficient [Cox] page 111\u001b[39;00m\n\u001b[1;32m    237\u001b[0m G1 \u001b[38;5;241m=\u001b[39m \u001b[38;5;28msorted\u001b[39m(G, key\u001b[38;5;241m=\u001b[39m\u001b[38;5;28;01mlambda\u001b[39;00m g: order(f[g]\u001b[38;5;241m.\u001b[39mLM))\n\u001b[0;32m--> 238\u001b[0m ht \u001b[38;5;241m=\u001b[39m \u001b[43mnormal\u001b[49m\u001b[43m(\u001b[49m\u001b[43mh\u001b[49m\u001b[43m,\u001b[49m\u001b[43m \u001b[49m\u001b[43mG1\u001b[49m\u001b[43m)\u001b[49m\n\u001b[1;32m    240\u001b[0m \u001b[38;5;28;01mif\u001b[39;00m ht:\n\u001b[1;32m    241\u001b[0m     G, CP \u001b[38;5;241m=\u001b[39m update(G, CP, ht[\u001b[38;5;241m1\u001b[39m])\n",
      "File \u001b[0;32m~/anaconda3/envs/physics/lib/python3.10/site-packages/sympy/polys/groebnertools.py:104\u001b[0m, in \u001b[0;36m_buchberger.<locals>.normal\u001b[0;34m(g, J)\u001b[0m\n\u001b[1;32m    103\u001b[0m \u001b[38;5;28;01mdef\u001b[39;00m \u001b[38;5;21mnormal\u001b[39m(g, J):\n\u001b[0;32m--> 104\u001b[0m     h \u001b[38;5;241m=\u001b[39m \u001b[43mg\u001b[49m\u001b[38;5;241;43m.\u001b[39;49m\u001b[43mrem\u001b[49m\u001b[43m(\u001b[49m\u001b[43m[\u001b[49m\u001b[43m \u001b[49m\u001b[43mf\u001b[49m\u001b[43m[\u001b[49m\u001b[43mj\u001b[49m\u001b[43m]\u001b[49m\u001b[43m \u001b[49m\u001b[38;5;28;43;01mfor\u001b[39;49;00m\u001b[43m \u001b[49m\u001b[43mj\u001b[49m\u001b[43m \u001b[49m\u001b[38;5;129;43;01min\u001b[39;49;00m\u001b[43m \u001b[49m\u001b[43mJ\u001b[49m\u001b[43m \u001b[49m\u001b[43m]\u001b[49m\u001b[43m)\u001b[49m\n\u001b[1;32m    106\u001b[0m     \u001b[38;5;28;01mif\u001b[39;00m \u001b[38;5;129;01mnot\u001b[39;00m h:\n\u001b[1;32m    107\u001b[0m         \u001b[38;5;28;01mreturn\u001b[39;00m \u001b[38;5;28;01mNone\u001b[39;00m\n",
      "File \u001b[0;32m~/anaconda3/envs/physics/lib/python3.10/site-packages/sympy/polys/rings.py:1493\u001b[0m, in \u001b[0;36mPolyElement.rem\u001b[0;34m(self, G)\u001b[0m\n\u001b[1;32m   1491\u001b[0m \u001b[38;5;28;01mfor\u001b[39;00m mg, cg \u001b[38;5;129;01min\u001b[39;00m g\u001b[38;5;241m.\u001b[39miterterms():\n\u001b[1;32m   1492\u001b[0m     m1 \u001b[38;5;241m=\u001b[39m monomial_mul(mg, m)\n\u001b[0;32m-> 1493\u001b[0m     c1 \u001b[38;5;241m=\u001b[39m \u001b[43mget\u001b[49m\u001b[43m(\u001b[49m\u001b[43mm1\u001b[49m\u001b[43m,\u001b[49m\u001b[43m \u001b[49m\u001b[43mzero\u001b[49m\u001b[43m)\u001b[49m\u001b[43m \u001b[49m\u001b[38;5;241;43m-\u001b[39;49m\u001b[43m \u001b[49m\u001b[43mc\u001b[49m\u001b[38;5;241;43m*\u001b[39;49m\u001b[43mcg\u001b[49m\n\u001b[1;32m   1494\u001b[0m     \u001b[38;5;28;01mif\u001b[39;00m \u001b[38;5;129;01mnot\u001b[39;00m c1:\n\u001b[1;32m   1495\u001b[0m         \u001b[38;5;28;01mdel\u001b[39;00m f[m1]\n",
      "File \u001b[0;32m~/anaconda3/envs/physics/lib/python3.10/site-packages/sympy/polys/fields.py:451\u001b[0m, in \u001b[0;36mFracElement.__sub__\u001b[0;34m(f, g)\u001b[0m\n\u001b[1;32m    449\u001b[0m         \u001b[38;5;28;01mreturn\u001b[39;00m f\u001b[38;5;241m.\u001b[39mnew(f\u001b[38;5;241m.\u001b[39mnumer \u001b[38;5;241m-\u001b[39m g\u001b[38;5;241m.\u001b[39mnumer, f\u001b[38;5;241m.\u001b[39mdenom)\n\u001b[1;32m    450\u001b[0m     \u001b[38;5;28;01melse\u001b[39;00m:\n\u001b[0;32m--> 451\u001b[0m         \u001b[38;5;28;01mreturn\u001b[39;00m \u001b[43mf\u001b[49m\u001b[38;5;241;43m.\u001b[39;49m\u001b[43mnew\u001b[49m\u001b[43m(\u001b[49m\u001b[43mf\u001b[49m\u001b[38;5;241;43m.\u001b[39;49m\u001b[43mnumer\u001b[49m\u001b[38;5;241;43m*\u001b[39;49m\u001b[43mg\u001b[49m\u001b[38;5;241;43m.\u001b[39;49m\u001b[43mdenom\u001b[49m\u001b[43m \u001b[49m\u001b[38;5;241;43m-\u001b[39;49m\u001b[43m \u001b[49m\u001b[43mf\u001b[49m\u001b[38;5;241;43m.\u001b[39;49m\u001b[43mdenom\u001b[49m\u001b[38;5;241;43m*\u001b[39;49m\u001b[43mg\u001b[49m\u001b[38;5;241;43m.\u001b[39;49m\u001b[43mnumer\u001b[49m\u001b[43m,\u001b[49m\u001b[43m \u001b[49m\u001b[43mf\u001b[49m\u001b[38;5;241;43m.\u001b[39;49m\u001b[43mdenom\u001b[49m\u001b[38;5;241;43m*\u001b[39;49m\u001b[43mg\u001b[49m\u001b[38;5;241;43m.\u001b[39;49m\u001b[43mdenom\u001b[49m\u001b[43m)\u001b[49m\n\u001b[1;32m    452\u001b[0m \u001b[38;5;28;01melif\u001b[39;00m \u001b[38;5;28misinstance\u001b[39m(g, field\u001b[38;5;241m.\u001b[39mring\u001b[38;5;241m.\u001b[39mdtype):\n\u001b[1;32m    453\u001b[0m     \u001b[38;5;28;01mreturn\u001b[39;00m f\u001b[38;5;241m.\u001b[39mnew(f\u001b[38;5;241m.\u001b[39mnumer \u001b[38;5;241m-\u001b[39m f\u001b[38;5;241m.\u001b[39mdenom\u001b[38;5;241m*\u001b[39mg, f\u001b[38;5;241m.\u001b[39mdenom)\n",
      "File \u001b[0;32m~/anaconda3/envs/physics/lib/python3.10/site-packages/sympy/polys/fields.py:301\u001b[0m, in \u001b[0;36mFracElement.new\u001b[0;34m(f, numer, denom)\u001b[0m\n\u001b[1;32m    300\u001b[0m \u001b[38;5;28;01mdef\u001b[39;00m \u001b[38;5;21mnew\u001b[39m(f, numer, denom):\n\u001b[0;32m--> 301\u001b[0m     \u001b[38;5;28;01mreturn\u001b[39;00m f\u001b[38;5;241m.\u001b[39mraw_new(\u001b[38;5;241m*\u001b[39m\u001b[43mnumer\u001b[49m\u001b[38;5;241;43m.\u001b[39;49m\u001b[43mcancel\u001b[49m\u001b[43m(\u001b[49m\u001b[43mdenom\u001b[49m\u001b[43m)\u001b[49m)\n",
      "File \u001b[0;32m~/anaconda3/envs/physics/lib/python3.10/site-packages/sympy/polys/rings.py:2223\u001b[0m, in \u001b[0;36mPolyElement.cancel\u001b[0;34m(self, g)\u001b[0m\n\u001b[1;32m   2220\u001b[0m domain \u001b[38;5;241m=\u001b[39m ring\u001b[38;5;241m.\u001b[39mdomain\n\u001b[1;32m   2222\u001b[0m \u001b[38;5;28;01mif\u001b[39;00m \u001b[38;5;129;01mnot\u001b[39;00m (domain\u001b[38;5;241m.\u001b[39mis_Field \u001b[38;5;129;01mand\u001b[39;00m domain\u001b[38;5;241m.\u001b[39mhas_assoc_Ring):\n\u001b[0;32m-> 2223\u001b[0m     _, p, q \u001b[38;5;241m=\u001b[39m \u001b[43mf\u001b[49m\u001b[38;5;241;43m.\u001b[39;49m\u001b[43mcofactors\u001b[49m\u001b[43m(\u001b[49m\u001b[43mg\u001b[49m\u001b[43m)\u001b[49m\n\u001b[1;32m   2224\u001b[0m \u001b[38;5;28;01melse\u001b[39;00m:\n\u001b[1;32m   2225\u001b[0m     new_ring \u001b[38;5;241m=\u001b[39m ring\u001b[38;5;241m.\u001b[39mclone(domain\u001b[38;5;241m=\u001b[39mdomain\u001b[38;5;241m.\u001b[39mget_ring())\n",
      "File \u001b[0;32m~/anaconda3/envs/physics/lib/python3.10/site-packages/sympy/polys/rings.py:2139\u001b[0m, in \u001b[0;36mPolyElement.cofactors\u001b[0;34m(f, g)\u001b[0m\n\u001b[1;32m   2136\u001b[0m     \u001b[38;5;28;01mreturn\u001b[39;00m h, cff, cfg\n\u001b[1;32m   2138\u001b[0m J, (f, g) \u001b[38;5;241m=\u001b[39m f\u001b[38;5;241m.\u001b[39mdeflate(g)\n\u001b[0;32m-> 2139\u001b[0m h, cff, cfg \u001b[38;5;241m=\u001b[39m \u001b[43mf\u001b[49m\u001b[38;5;241;43m.\u001b[39;49m\u001b[43m_gcd\u001b[49m\u001b[43m(\u001b[49m\u001b[43mg\u001b[49m\u001b[43m)\u001b[49m\n\u001b[1;32m   2141\u001b[0m \u001b[38;5;28;01mreturn\u001b[39;00m (h\u001b[38;5;241m.\u001b[39minflate(J), cff\u001b[38;5;241m.\u001b[39minflate(J), cfg\u001b[38;5;241m.\u001b[39minflate(J))\n",
      "File \u001b[0;32m~/anaconda3/envs/physics/lib/python3.10/site-packages/sympy/polys/rings.py:2172\u001b[0m, in \u001b[0;36mPolyElement._gcd\u001b[0;34m(f, g)\u001b[0m\n\u001b[1;32m   2170\u001b[0m     \u001b[38;5;28;01mreturn\u001b[39;00m f\u001b[38;5;241m.\u001b[39m_gcd_QQ(g)\n\u001b[1;32m   2171\u001b[0m \u001b[38;5;28;01melif\u001b[39;00m ring\u001b[38;5;241m.\u001b[39mdomain\u001b[38;5;241m.\u001b[39mis_ZZ:\n\u001b[0;32m-> 2172\u001b[0m     \u001b[38;5;28;01mreturn\u001b[39;00m \u001b[43mf\u001b[49m\u001b[38;5;241;43m.\u001b[39;49m\u001b[43m_gcd_ZZ\u001b[49m\u001b[43m(\u001b[49m\u001b[43mg\u001b[49m\u001b[43m)\u001b[49m\n\u001b[1;32m   2173\u001b[0m \u001b[38;5;28;01melse\u001b[39;00m: \u001b[38;5;66;03m# TODO: don't use dense representation (port PRS algorithms)\u001b[39;00m\n\u001b[1;32m   2174\u001b[0m     \u001b[38;5;28;01mreturn\u001b[39;00m ring\u001b[38;5;241m.\u001b[39mdmp_inner_gcd(f, g)\n",
      "File \u001b[0;32m~/anaconda3/envs/physics/lib/python3.10/site-packages/sympy/polys/rings.py:2177\u001b[0m, in \u001b[0;36mPolyElement._gcd_ZZ\u001b[0;34m(f, g)\u001b[0m\n\u001b[1;32m   2176\u001b[0m \u001b[38;5;28;01mdef\u001b[39;00m \u001b[38;5;21m_gcd_ZZ\u001b[39m(f, g):\n\u001b[0;32m-> 2177\u001b[0m     \u001b[38;5;28;01mreturn\u001b[39;00m \u001b[43mheugcd\u001b[49m\u001b[43m(\u001b[49m\u001b[43mf\u001b[49m\u001b[43m,\u001b[49m\u001b[43m \u001b[49m\u001b[43mg\u001b[49m\u001b[43m)\u001b[49m\n",
      "File \u001b[0;32m~/anaconda3/envs/physics/lib/python3.10/site-packages/sympy/polys/heuristicgcd.py:80\u001b[0m, in \u001b[0;36mheugcd\u001b[0;34m(f, g)\u001b[0m\n\u001b[1;32m     78\u001b[0m     h, cff, cfg \u001b[38;5;241m=\u001b[39m domain\u001b[38;5;241m.\u001b[39mcofactors(ff, gg)\n\u001b[1;32m     79\u001b[0m \u001b[38;5;28;01melse\u001b[39;00m:\n\u001b[0;32m---> 80\u001b[0m     h, cff, cfg \u001b[38;5;241m=\u001b[39m \u001b[43mheugcd\u001b[49m\u001b[43m(\u001b[49m\u001b[43mff\u001b[49m\u001b[43m,\u001b[49m\u001b[43m \u001b[49m\u001b[43mgg\u001b[49m\u001b[43m)\u001b[49m\n\u001b[1;32m     82\u001b[0m h \u001b[38;5;241m=\u001b[39m _gcd_interpolate(h, x, ring)\n\u001b[1;32m     83\u001b[0m h \u001b[38;5;241m=\u001b[39m h\u001b[38;5;241m.\u001b[39mprimitive()[\u001b[38;5;241m1\u001b[39m]\n",
      "File \u001b[0;32m~/anaconda3/envs/physics/lib/python3.10/site-packages/sympy/polys/heuristicgcd.py:73\u001b[0m, in \u001b[0;36mheugcd\u001b[0;34m(f, g)\u001b[0m\n\u001b[1;32m     68\u001b[0m x \u001b[38;5;241m=\u001b[39m \u001b[38;5;28mmax\u001b[39m(\u001b[38;5;28mmin\u001b[39m(B, \u001b[38;5;241m99\u001b[39m\u001b[38;5;241m*\u001b[39mdomain\u001b[38;5;241m.\u001b[39msqrt(B)),\n\u001b[1;32m     69\u001b[0m         \u001b[38;5;241m2\u001b[39m\u001b[38;5;241m*\u001b[39m\u001b[38;5;28mmin\u001b[39m(f_norm \u001b[38;5;241m/\u001b[39m\u001b[38;5;241m/\u001b[39m \u001b[38;5;28mabs\u001b[39m(f\u001b[38;5;241m.\u001b[39mLC),\n\u001b[1;32m     70\u001b[0m               g_norm \u001b[38;5;241m/\u001b[39m\u001b[38;5;241m/\u001b[39m \u001b[38;5;28mabs\u001b[39m(g\u001b[38;5;241m.\u001b[39mLC)) \u001b[38;5;241m+\u001b[39m \u001b[38;5;241m4\u001b[39m)\n\u001b[1;32m     72\u001b[0m \u001b[38;5;28;01mfor\u001b[39;00m i \u001b[38;5;129;01min\u001b[39;00m \u001b[38;5;28mrange\u001b[39m(\u001b[38;5;241m0\u001b[39m, HEU_GCD_MAX):\n\u001b[0;32m---> 73\u001b[0m     ff \u001b[38;5;241m=\u001b[39m \u001b[43mf\u001b[49m\u001b[38;5;241;43m.\u001b[39;49m\u001b[43mevaluate\u001b[49m\u001b[43m(\u001b[49m\u001b[43mx0\u001b[49m\u001b[43m,\u001b[49m\u001b[43m \u001b[49m\u001b[43mx\u001b[49m\u001b[43m)\u001b[49m\n\u001b[1;32m     74\u001b[0m     gg \u001b[38;5;241m=\u001b[39m g\u001b[38;5;241m.\u001b[39mevaluate(x0, x)\n\u001b[1;32m     76\u001b[0m     \u001b[38;5;28;01mif\u001b[39;00m ff \u001b[38;5;129;01mand\u001b[39;00m gg:\n",
      "File \u001b[0;32m~/anaconda3/envs/physics/lib/python3.10/site-packages/sympy/polys/rings.py:2312\u001b[0m, in \u001b[0;36mPolyElement.evaluate\u001b[0;34m(self, x, a)\u001b[0m\n\u001b[1;32m   2309\u001b[0m     result \u001b[38;5;241m=\u001b[39m ring\u001b[38;5;241m.\u001b[39mdomain\u001b[38;5;241m.\u001b[39mzero\n\u001b[1;32m   2311\u001b[0m     \u001b[38;5;28;01mfor\u001b[39;00m (n,), coeff \u001b[38;5;129;01min\u001b[39;00m f\u001b[38;5;241m.\u001b[39miterterms():\n\u001b[0;32m-> 2312\u001b[0m         result \u001b[38;5;241m+\u001b[39m\u001b[38;5;241m=\u001b[39m coeff\u001b[38;5;241m*\u001b[39ma\u001b[38;5;241m*\u001b[39m\u001b[38;5;241m*\u001b[39mn\n\u001b[1;32m   2314\u001b[0m     \u001b[38;5;28;01mreturn\u001b[39;00m result\n\u001b[1;32m   2315\u001b[0m \u001b[38;5;28;01melse\u001b[39;00m:\n",
      "\u001b[0;31mKeyboardInterrupt\u001b[0m: "
     ]
    }
   ],
   "source": [
    "solutions1 = sym.solve(list(delta.values())+[m_x**2+m_y**2+m_z**2+ch_xx+ch_yy+ch_zz-1], [m_x, m_y, m_z, ch_xx, ch_xy, ch_xz, ch_yy, ch_yz, ch_zz], dict=True)"
   ]
  },
  {
   "cell_type": "code",
   "execution_count": 21,
   "id": "b11c917e",
   "metadata": {},
   "outputs": [],
   "source": [
    "with open('fixed_points_order_2.pkl', 'wb') as f:\n",
    "        pickle.dump(solutions, f)"
   ]
  },
  {
   "cell_type": "code",
   "execution_count": null,
   "id": "447339c4",
   "metadata": {},
   "outputs": [],
   "source": []
  },
  {
   "cell_type": "code",
   "execution_count": 25,
   "id": "474d44cd",
   "metadata": {},
   "outputs": [
    {
     "data": {
      "text/latex": [
       "$\\displaystyle 2 \\kappa$"
      ],
      "text/plain": [
       "2*kappa"
      ]
     },
     "execution_count": 25,
     "metadata": {},
     "output_type": "execute_result"
    }
   ],
   "source": [
    "sym.diff(delta['m_x'],ch_xz)"
   ]
  },
  {
   "cell_type": "code",
   "execution_count": 25,
   "id": "f182f499",
   "metadata": {},
   "outputs": [],
   "source": [
    "from IPython.display import Markdown, Math"
   ]
  },
  {
   "cell_type": "markdown",
   "id": "1ae38fa2",
   "metadata": {},
   "source": [
    "## Solving the Kuramoto Expression"
   ]
  },
  {
   "cell_type": "code",
   "execution_count": 29,
   "id": "78e8aa0f",
   "metadata": {},
   "outputs": [],
   "source": [
    "def kuramoto(args):\n",
    "    w0 = args[0]\n",
    "    k = args[1]\n",
    "    my = args[2]\n",
    "    mz = args[3]\n",
    "    del_my = 2*k*my*mz - w0*mz\n",
    "    del_mz = -2*k*my*my + w0*my\n",
    "    return [del_my, del_mz]"
   ]
  },
  {
   "cell_type": "code",
   "execution_count": 30,
   "id": "9abc3503",
   "metadata": {},
   "outputs": [],
   "source": [
    "def solve_kuramoto(t, initial_conditions, k, w0):\n",
    "    #m_y, m_z, n_yy, n_yz, n_zz  = initial_conditions\n",
    "    args = (w0,k,*initial_conditions)\n",
    "    return kuramoto(args)"
   ]
  },
  {
   "cell_type": "code",
   "execution_count": 36,
   "id": "34d765c8",
   "metadata": {
    "scrolled": true
   },
   "outputs": [],
   "source": [
    "sol = solve_ivp(solve_kuramoto, [0, 40], [0,1], args=(0.2, 1), dense_output=True, method='BDF', max_step=0.001)\n",
    "t = np.linspace(0, 40, 200)\n",
    "z = sol.sol(t)\n",
    "y = z.T[:,-1]\n",
    "data = np.concatenate([t.reshape(1,len(t)),z])"
   ]
  },
  {
   "cell_type": "code",
   "execution_count": 41,
   "id": "1b28582d",
   "metadata": {},
   "outputs": [],
   "source": [
    "data_dict = dict()\n",
    "data_dict['w0'] = 1\n",
    "data_dict['k'] = 0.2\n",
    "data_dict['t'] = t\n",
    "data_dict['y'] = y\n",
    "\n",
    "with open('data/kuramoto.pkl', 'wb') as f:\n",
    "        pickle.dump(data_dict, f)"
   ]
  },
  {
   "cell_type": "code",
   "execution_count": 37,
   "id": "bea4783a",
   "metadata": {},
   "outputs": [
    {
     "data": {
      "image/png": "[encoded data removed]",
      "text/plain": [
       "<Figure size 800x800 with 1 Axes>"
      ]
     },
     "metadata": {
      "needs_background": "light"
     },
     "output_type": "display_data"
    }
   ],
   "source": [
    "plot_data(t, y, r'$t$', r'$\\frac{S_z}{S}$', r'Mean of $S_z$ Normalised', data, savedir = None)"
   ]
  },
  {
   "cell_type": "markdown",
   "id": "cb5d3bcf",
   "metadata": {},
   "source": [
    "## Solving the Equations"
   ]
  },
  {
   "cell_type": "code",
   "execution_count": 75,
   "id": "4e18b1ec",
   "metadata": {},
   "outputs": [],
   "source": [
    "def eval_expr(delta, args):\n",
    "    delta = delta\n",
    "    f_list = list()\n",
    "    for key in delta.keys():\n",
    "        f = sym.lambdify([(w0,k,m_x,m_y,m_z,n_xx,n_xy,n_xz,n_yy,n_yz,n_zz)], delta[key])\n",
    "        f_list.append(f(args))\n",
    "    return f_list"
   ]
  },
  {
   "cell_type": "code",
   "execution_count": 76,
   "id": "f81510ef",
   "metadata": {},
   "outputs": [],
   "source": [
    "def eval_expr_var(delta, args):\n",
    "    delta = delta\n",
    "    f_list = list()\n",
    "    for key in delta.keys():\n",
    "        f = sym.lambdify([(w0,k,m_x,m_y,m_z,ch_xx,ch_xy,ch_xz,ch_yy,ch_yz,ch_zz)], delta[key])\n",
    "        f_list.append(f(args))\n",
    "    return f_list"
   ]
  },
  {
   "cell_type": "code",
   "execution_count": 77,
   "id": "fbe759a3",
   "metadata": {},
   "outputs": [],
   "source": [
    "def solve_variance(t, initial_conditions, k, w0):\n",
    "    #m_y, m_z, n_yy, n_yz, n_zz  = initial_conditions\n",
    "    args = (w0,k,*initial_conditions)\n",
    "    return eval_expr_var(delta, args)"
   ]
  },
  {
   "cell_type": "code",
   "execution_count": 78,
   "id": "c0396672",
   "metadata": {
    "scrolled": true
   },
   "outputs": [],
   "source": [
    "sol = solve_ivp(solve_variance, [0, 200], [0,0,1,0,0,0,0,0,0.01], args=(0.2, 1), dense_output=True, method='BDF', max_step=0.01)\n",
    "t = np.linspace(0, 200, 200)\n",
    "z = sol.sol(t)\n",
    "y = z.T[:,-1]\n",
    "data = np.concatenate([t.reshape(1,len(t)),z])"
   ]
  },
  {
   "cell_type": "code",
   "execution_count": 79,
   "id": "1efb9b6b",
   "metadata": {},
   "outputs": [
    {
     "data": {
      "image/png": "[encoded data removed]",
      "text/plain": [
       "<Figure size 800x800 with 1 Axes>"
      ]
     },
     "metadata": {
      "needs_background": "light"
     },
     "output_type": "display_data"
    }
   ],
   "source": [
    "plot_data(t, y, r'$t$', r'$\\frac{\\Delta S_z}{S^2}$', r'Variance of $S_z$ Normalised', data, savedir = 'Second_order_inf_N')"
   ]
  }
 ],
 "metadata": {
  "kernelspec": {
   "display_name": "Python 3 (ipykernel)",
   "language": "python",
   "name": "python3"
  },
  "language_info": {
   "codemirror_mode": {
    "name": "ipython",
    "version": 3
   },
   "file_extension": ".py",
   "mimetype": "text/x-python",
   "name": "python",
   "nbconvert_exporter": "python",
   "pygments_lexer": "ipython3",
   "version": "3.10.6"
  },
  "toc": {
   "base_numbering": 1,
   "nav_menu": {},
   "number_sections": true,
   "sideBar": true,
   "skip_h1_title": true,
   "title_cell": "Table of Contents",
   "title_sidebar": "Contents",
   "toc_cell": false,
   "toc_position": {
    "height": "calc(100% - 180px)",
    "left": "10px",
    "top": "150px",
    "width": "165px"
   },
   "toc_section_display": true,
   "toc_window_display": true
  }
 },
 "nbformat": 4,
 "nbformat_minor": 5
}
